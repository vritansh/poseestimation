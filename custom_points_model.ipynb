{
 "cells": [
  {
   "cell_type": "markdown",
   "metadata": {
    "id": "ZObnILgST2-y"
   },
   "source": [
    "# Summary : File for training the  posenet coordinates and generating the model for classification."
   ]
  },
  {
   "cell_type": "code",
   "execution_count": null,
   "metadata": {},
   "outputs": [],
   "source": [
    "import pandas as pd\n",
    "import numpy as np\n",
    "import matplotlib.pyplot as plt\n",
    "import tensorflow as tf\n",
    "from sklearn import preprocessing\n",
    "from sklearn.model_selection import train_test_split\n",
    "# first neural network with keras make predictions\n",
    "from numpy import loadtxt\n",
    "from tensorflow.keras.models import Sequential\n",
    "from tensorflow.keras.layers import Dense, Dropout\n",
    "from keras.layers import Dense\n",
    "from keras.wrappers.scikit_learn import KerasClassifier\n",
    "from sklearn.model_selection import cross_val_score\n",
    "from sklearn.model_selection import KFold\n",
    "from keras.optimizers import SGD, Adam, Adadelta, RMSprop\n",
    "\n",
    "from sklearn.metrics import confusion_matrix\n",
    "from sklearn.metrics import classification_report"
   ]
  },
  {
   "cell_type": "code",
   "execution_count": 61,
   "metadata": {
    "id": "LwmPkeOST9jq"
   },
   "outputs": [],
   "source": [
    "#Provide link to the dataset from google drive. \n",
    "df = pd.read_csv(\"/content/sample_data/dataset.csv\")"
   ]
  },
  {
   "cell_type": "code",
   "execution_count": 62,
   "metadata": {
    "colab": {
     "base_uri": "https://localhost:8080/",
     "height": 317
    },
    "id": "z3WhRFBuUBjS",
    "outputId": "b569b283-7ecf-44d3-93eb-66e14d315491"
   },
   "outputs": [
    {
     "data": {
      "text/html": [
       "\n",
       "  <div id=\"df-e9a4bfc3-3ba1-4f22-8abe-48d110fc8689\">\n",
       "    <div class=\"colab-df-container\">\n",
       "      <div>\n",
       "<style scoped>\n",
       "    .dataframe tbody tr th:only-of-type {\n",
       "        vertical-align: middle;\n",
       "    }\n",
       "\n",
       "    .dataframe tbody tr th {\n",
       "        vertical-align: top;\n",
       "    }\n",
       "\n",
       "    .dataframe thead th {\n",
       "        text-align: right;\n",
       "    }\n",
       "</style>\n",
       "<table border=\"1\" class=\"dataframe\">\n",
       "  <thead>\n",
       "    <tr style=\"text-align: right;\">\n",
       "      <th></th>\n",
       "      <th>Unnamed: 0</th>\n",
       "      <th>nose_x</th>\n",
       "      <th>nose_y</th>\n",
       "      <th>left_eye_x</th>\n",
       "      <th>left_eye_y</th>\n",
       "      <th>right_eye_x</th>\n",
       "      <th>right_eye_y</th>\n",
       "      <th>left_ear_x</th>\n",
       "      <th>left_ear_y</th>\n",
       "      <th>right_ear_x</th>\n",
       "      <th>...</th>\n",
       "      <th>right_hip_y</th>\n",
       "      <th>left_knee_x</th>\n",
       "      <th>left_knee_y</th>\n",
       "      <th>right_knee_x</th>\n",
       "      <th>right_knee_y</th>\n",
       "      <th>left_ankle_x</th>\n",
       "      <th>left_ankle_y</th>\n",
       "      <th>right_ankle_x</th>\n",
       "      <th>right_ankle_y</th>\n",
       "      <th>target</th>\n",
       "    </tr>\n",
       "  </thead>\n",
       "  <tbody>\n",
       "    <tr>\n",
       "      <th>0</th>\n",
       "      <td>0</td>\n",
       "      <td>0.581017</td>\n",
       "      <td>0.453762</td>\n",
       "      <td>0.577404</td>\n",
       "      <td>0.450055</td>\n",
       "      <td>0.580916</td>\n",
       "      <td>0.438998</td>\n",
       "      <td>0.535544</td>\n",
       "      <td>0.451611</td>\n",
       "      <td>0.532621</td>\n",
       "      <td>...</td>\n",
       "      <td>0.633268</td>\n",
       "      <td>0.457303</td>\n",
       "      <td>0.783270</td>\n",
       "      <td>0.467570</td>\n",
       "      <td>0.733809</td>\n",
       "      <td>0.613938</td>\n",
       "      <td>0.862114</td>\n",
       "      <td>0.601431</td>\n",
       "      <td>0.804750</td>\n",
       "      <td>downdog</td>\n",
       "    </tr>\n",
       "    <tr>\n",
       "      <th>1</th>\n",
       "      <td>1</td>\n",
       "      <td>0.672227</td>\n",
       "      <td>0.420998</td>\n",
       "      <td>0.676045</td>\n",
       "      <td>0.457124</td>\n",
       "      <td>0.677759</td>\n",
       "      <td>0.436243</td>\n",
       "      <td>0.633316</td>\n",
       "      <td>0.499608</td>\n",
       "      <td>0.633656</td>\n",
       "      <td>...</td>\n",
       "      <td>0.198734</td>\n",
       "      <td>0.518366</td>\n",
       "      <td>0.199355</td>\n",
       "      <td>0.475942</td>\n",
       "      <td>0.110195</td>\n",
       "      <td>0.712224</td>\n",
       "      <td>0.115352</td>\n",
       "      <td>0.707583</td>\n",
       "      <td>0.107450</td>\n",
       "      <td>downdog</td>\n",
       "    </tr>\n",
       "    <tr>\n",
       "      <th>2</th>\n",
       "      <td>2</td>\n",
       "      <td>0.354110</td>\n",
       "      <td>0.370871</td>\n",
       "      <td>0.406322</td>\n",
       "      <td>0.421844</td>\n",
       "      <td>0.415477</td>\n",
       "      <td>0.412413</td>\n",
       "      <td>0.402504</td>\n",
       "      <td>0.448628</td>\n",
       "      <td>0.377361</td>\n",
       "      <td>...</td>\n",
       "      <td>0.439644</td>\n",
       "      <td>0.637481</td>\n",
       "      <td>0.629714</td>\n",
       "      <td>0.632584</td>\n",
       "      <td>0.307768</td>\n",
       "      <td>0.646537</td>\n",
       "      <td>0.668065</td>\n",
       "      <td>0.703895</td>\n",
       "      <td>0.305129</td>\n",
       "      <td>downdog</td>\n",
       "    </tr>\n",
       "    <tr>\n",
       "      <th>3</th>\n",
       "      <td>3</td>\n",
       "      <td>0.619298</td>\n",
       "      <td>0.383468</td>\n",
       "      <td>0.619082</td>\n",
       "      <td>0.363149</td>\n",
       "      <td>0.620133</td>\n",
       "      <td>0.361472</td>\n",
       "      <td>0.565902</td>\n",
       "      <td>0.343289</td>\n",
       "      <td>0.564115</td>\n",
       "      <td>...</td>\n",
       "      <td>0.604139</td>\n",
       "      <td>0.493288</td>\n",
       "      <td>0.752428</td>\n",
       "      <td>0.512264</td>\n",
       "      <td>0.706776</td>\n",
       "      <td>0.710683</td>\n",
       "      <td>0.896842</td>\n",
       "      <td>0.694093</td>\n",
       "      <td>0.817436</td>\n",
       "      <td>downdog</td>\n",
       "    </tr>\n",
       "    <tr>\n",
       "      <th>4</th>\n",
       "      <td>4</td>\n",
       "      <td>0.725169</td>\n",
       "      <td>0.466298</td>\n",
       "      <td>0.726078</td>\n",
       "      <td>0.453241</td>\n",
       "      <td>0.726422</td>\n",
       "      <td>0.454009</td>\n",
       "      <td>0.695704</td>\n",
       "      <td>0.427014</td>\n",
       "      <td>0.698670</td>\n",
       "      <td>...</td>\n",
       "      <td>0.604987</td>\n",
       "      <td>0.638270</td>\n",
       "      <td>0.717947</td>\n",
       "      <td>0.637848</td>\n",
       "      <td>0.717494</td>\n",
       "      <td>0.769706</td>\n",
       "      <td>0.808502</td>\n",
       "      <td>0.755783</td>\n",
       "      <td>0.798569</td>\n",
       "      <td>downdog</td>\n",
       "    </tr>\n",
       "  </tbody>\n",
       "</table>\n",
       "<p>5 rows × 36 columns</p>\n",
       "</div>\n",
       "      <button class=\"colab-df-convert\" onclick=\"convertToInteractive('df-e9a4bfc3-3ba1-4f22-8abe-48d110fc8689')\"\n",
       "              title=\"Convert this dataframe to an interactive table.\"\n",
       "              style=\"display:none;\">\n",
       "        \n",
       "  <svg xmlns=\"http://www.w3.org/2000/svg\" height=\"24px\"viewBox=\"0 0 24 24\"\n",
       "       width=\"24px\">\n",
       "    <path d=\"M0 0h24v24H0V0z\" fill=\"none\"/>\n",
       "    <path d=\"M18.56 5.44l.94 2.06.94-2.06 2.06-.94-2.06-.94-.94-2.06-.94 2.06-2.06.94zm-11 1L8.5 8.5l.94-2.06 2.06-.94-2.06-.94L8.5 2.5l-.94 2.06-2.06.94zm10 10l.94 2.06.94-2.06 2.06-.94-2.06-.94-.94-2.06-.94 2.06-2.06.94z\"/><path d=\"M17.41 7.96l-1.37-1.37c-.4-.4-.92-.59-1.43-.59-.52 0-1.04.2-1.43.59L10.3 9.45l-7.72 7.72c-.78.78-.78 2.05 0 2.83L4 21.41c.39.39.9.59 1.41.59.51 0 1.02-.2 1.41-.59l7.78-7.78 2.81-2.81c.8-.78.8-2.07 0-2.86zM5.41 20L4 18.59l7.72-7.72 1.47 1.35L5.41 20z\"/>\n",
       "  </svg>\n",
       "      </button>\n",
       "      \n",
       "  <style>\n",
       "    .colab-df-container {\n",
       "      display:flex;\n",
       "      flex-wrap:wrap;\n",
       "      gap: 12px;\n",
       "    }\n",
       "\n",
       "    .colab-df-convert {\n",
       "      background-color: #E8F0FE;\n",
       "      border: none;\n",
       "      border-radius: 50%;\n",
       "      cursor: pointer;\n",
       "      display: none;\n",
       "      fill: #1967D2;\n",
       "      height: 32px;\n",
       "      padding: 0 0 0 0;\n",
       "      width: 32px;\n",
       "    }\n",
       "\n",
       "    .colab-df-convert:hover {\n",
       "      background-color: #E2EBFA;\n",
       "      box-shadow: 0px 1px 2px rgba(60, 64, 67, 0.3), 0px 1px 3px 1px rgba(60, 64, 67, 0.15);\n",
       "      fill: #174EA6;\n",
       "    }\n",
       "\n",
       "    [theme=dark] .colab-df-convert {\n",
       "      background-color: #3B4455;\n",
       "      fill: #D2E3FC;\n",
       "    }\n",
       "\n",
       "    [theme=dark] .colab-df-convert:hover {\n",
       "      background-color: #434B5C;\n",
       "      box-shadow: 0px 1px 3px 1px rgba(0, 0, 0, 0.15);\n",
       "      filter: drop-shadow(0px 1px 2px rgba(0, 0, 0, 0.3));\n",
       "      fill: #FFFFFF;\n",
       "    }\n",
       "  </style>\n",
       "\n",
       "      <script>\n",
       "        const buttonEl =\n",
       "          document.querySelector('#df-e9a4bfc3-3ba1-4f22-8abe-48d110fc8689 button.colab-df-convert');\n",
       "        buttonEl.style.display =\n",
       "          google.colab.kernel.accessAllowed ? 'block' : 'none';\n",
       "\n",
       "        async function convertToInteractive(key) {\n",
       "          const element = document.querySelector('#df-e9a4bfc3-3ba1-4f22-8abe-48d110fc8689');\n",
       "          const dataTable =\n",
       "            await google.colab.kernel.invokeFunction('convertToInteractive',\n",
       "                                                     [key], {});\n",
       "          if (!dataTable) return;\n",
       "\n",
       "          const docLinkHtml = 'Like what you see? Visit the ' +\n",
       "            '<a target=\"_blank\" href=https://colab.research.google.com/notebooks/data_table.ipynb>data table notebook</a>'\n",
       "            + ' to learn more about interactive tables.';\n",
       "          element.innerHTML = '';\n",
       "          dataTable['output_type'] = 'display_data';\n",
       "          await google.colab.output.renderOutput(dataTable, element);\n",
       "          const docLink = document.createElement('div');\n",
       "          docLink.innerHTML = docLinkHtml;\n",
       "          element.appendChild(docLink);\n",
       "        }\n",
       "      </script>\n",
       "    </div>\n",
       "  </div>\n",
       "  "
      ],
      "text/plain": [
       "   Unnamed: 0    nose_x    nose_y  left_eye_x  left_eye_y  right_eye_x  \\\n",
       "0           0  0.581017  0.453762    0.577404    0.450055     0.580916   \n",
       "1           1  0.672227  0.420998    0.676045    0.457124     0.677759   \n",
       "2           2  0.354110  0.370871    0.406322    0.421844     0.415477   \n",
       "3           3  0.619298  0.383468    0.619082    0.363149     0.620133   \n",
       "4           4  0.725169  0.466298    0.726078    0.453241     0.726422   \n",
       "\n",
       "   right_eye_y  left_ear_x  left_ear_y  right_ear_x  ...  right_hip_y  \\\n",
       "0     0.438998    0.535544    0.451611     0.532621  ...     0.633268   \n",
       "1     0.436243    0.633316    0.499608     0.633656  ...     0.198734   \n",
       "2     0.412413    0.402504    0.448628     0.377361  ...     0.439644   \n",
       "3     0.361472    0.565902    0.343289     0.564115  ...     0.604139   \n",
       "4     0.454009    0.695704    0.427014     0.698670  ...     0.604987   \n",
       "\n",
       "   left_knee_x  left_knee_y  right_knee_x  right_knee_y  left_ankle_x  \\\n",
       "0     0.457303     0.783270      0.467570      0.733809      0.613938   \n",
       "1     0.518366     0.199355      0.475942      0.110195      0.712224   \n",
       "2     0.637481     0.629714      0.632584      0.307768      0.646537   \n",
       "3     0.493288     0.752428      0.512264      0.706776      0.710683   \n",
       "4     0.638270     0.717947      0.637848      0.717494      0.769706   \n",
       "\n",
       "   left_ankle_y  right_ankle_x  right_ankle_y   target  \n",
       "0      0.862114       0.601431       0.804750  downdog  \n",
       "1      0.115352       0.707583       0.107450  downdog  \n",
       "2      0.668065       0.703895       0.305129  downdog  \n",
       "3      0.896842       0.694093       0.817436  downdog  \n",
       "4      0.808502       0.755783       0.798569  downdog  \n",
       "\n",
       "[5 rows x 36 columns]"
      ]
     },
     "execution_count": 62,
     "metadata": {},
     "output_type": "execute_result"
    }
   ],
   "source": [
    "df.head()"
   ]
  },
  {
   "cell_type": "code",
   "execution_count": 63,
   "metadata": {
    "id": "0Zs3yYgsWRHU"
   },
   "outputs": [],
   "source": [
    "df.index = df['Unnamed: 0']\n",
    "df.drop('Unnamed: 0', axis=1, inplace=True)"
   ]
  },
  {
   "cell_type": "code",
   "execution_count": 64,
   "metadata": {
    "colab": {
     "base_uri": "https://localhost:8080/"
    },
    "id": "9U7_PR6YUKjp",
    "outputId": "ec4c1532-5b54-4a1b-c14b-649c19c030e6"
   },
   "outputs": [
    {
     "name": "stdout",
     "output_type": "stream",
     "text": [
      "Drop :  nose_x\n",
      "Drop :  nose_y\n",
      "Drop :  left_eye_x\n",
      "Drop :  left_eye_y\n",
      "Drop :  right_eye_x\n",
      "Drop :  right_eye_y\n",
      "Drop :  left_ear_x\n",
      "Drop :  left_ear_y\n",
      "Drop :  right_ear_x\n",
      "Drop :  right_ear_y\n"
     ]
    }
   ],
   "source": [
    "#Cleaning the data => Removing columns with nose, ear and eye\n",
    "points_to_remove = ['nose','ear','eye']\n",
    "for c in df.columns:\n",
    "       for point in points_to_remove:\n",
    "         if(point in c):\n",
    "           print(\"Drop : \",c)\n",
    "           df.drop(c, axis=1, inplace=True)"
   ]
  },
  {
   "cell_type": "code",
   "execution_count": 65,
   "metadata": {
    "colab": {
     "base_uri": "https://localhost:8080/"
    },
    "id": "o2xhD7Dub3kM",
    "outputId": "6acf41e4-aaff-4013-a039-54e3383cc5fb"
   },
   "outputs": [
    {
     "data": {
      "text/plain": [
       "(464, 25)"
      ]
     },
     "execution_count": 65,
     "metadata": {},
     "output_type": "execute_result"
    }
   ],
   "source": [
    "df.shape\n",
    "#25 columns in the data frame => taking 24 co ordinates to detect a pose"
   ]
  },
  {
   "cell_type": "code",
   "execution_count": 66,
   "metadata": {
    "colab": {
     "base_uri": "https://localhost:8080/"
    },
    "id": "rn4Q2lDIWOtR",
    "outputId": "d850af37-cff9-497b-d066-b133b4d19ca0"
   },
   "outputs": [
    {
     "data": {
      "text/plain": [
       "Index(['left_shoulder_x', 'left_shoulder_y', 'right_shoulder_x',\n",
       "       'right_shoulder_y', 'left_elbow_x', 'left_elbow_y', 'right_elbow_x',\n",
       "       'right_elbow_y', 'left_wrist_x', 'left_wrist_y', 'right_wrist_x',\n",
       "       'right_wrist_y', 'left_hip_x', 'left_hip_y', 'right_hip_x',\n",
       "       'right_hip_y', 'left_knee_x', 'left_knee_y', 'right_knee_x',\n",
       "       'right_knee_y', 'left_ankle_x', 'left_ankle_y', 'right_ankle_x',\n",
       "       'right_ankle_y', 'target'],\n",
       "      dtype='object')"
      ]
     },
     "execution_count": 66,
     "metadata": {},
     "output_type": "execute_result"
    }
   ],
   "source": [
    "df.columns"
   ]
  },
  {
   "cell_type": "code",
   "execution_count": 67,
   "metadata": {
    "colab": {
     "base_uri": "https://localhost:8080/",
     "height": 295
    },
    "id": "P-udjdtXWWtm",
    "outputId": "df22ee5b-aa35-48c7-a20d-1b33c1bc663e"
   },
   "outputs": [
    {
     "data": {
      "image/png": "[encoded data removed]",
      "text/plain": [
       "<Figure size 432x288 with 1 Axes>"
      ]
     },
     "metadata": {
      "needs_background": "light"
     },
     "output_type": "display_data"
    }
   ],
   "source": [
    "#Showing the number of images present for each yoga pose \n",
    "df.target.value_counts().plot(kind='barh')\n",
    "plt.title(\"Distribution of the data \")\n",
    "plt.xlabel(\"Count of the Poses\")\n",
    "plt.ylabel(\"Target Labels\")\n",
    "plt.show()"
   ]
  },
  {
   "cell_type": "code",
   "execution_count": 68,
   "metadata": {
    "id": "057J237bWYyc"
   },
   "outputs": [],
   "source": [
    "#Separating input(X=>all the coordinates of joints) and output(Y=>pose) data \n",
    "X = df.drop(columns=['target'])\n",
    "y_temp = df['target']"
   ]
  },
  {
   "cell_type": "code",
   "execution_count": 69,
   "metadata": {
    "id": "tUNTzLwqrHnc"
   },
   "outputs": [],
   "source": [
    "#Encoding the target variables with labels for each class \n",
    "le = preprocessing.LabelEncoder()\n",
    "y = le.fit_transform(y_temp)"
   ]
  },
  {
   "cell_type": "code",
   "execution_count": 70,
   "metadata": {
    "colab": {
     "base_uri": "https://localhost:8080/"
    },
    "id": "vJzSRP6Plb7N",
    "outputId": "c31a0939-055f-4e1f-e499-ac6a6010e8a6"
   },
   "outputs": [
    {
     "name": "stdout",
     "output_type": "stream",
     "text": [
      "0 downdog\n",
      "1 goddess\n",
      "2 plank\n",
      "3 tree\n",
      "4 warrior2\n"
     ]
    }
   ],
   "source": [
    "#showing labels assigned to each pose \n",
    "poses = ['downdog', 'goddess', 'plank', 'tree', 'warrior2']\n",
    "encoded_data, mapping_index = pd.Series(poses).factorize()\n",
    "for data in encoded_data:\n",
    "    print(data, mapping_index[data])"
   ]
  },
  {
   "cell_type": "code",
   "execution_count": 71,
   "metadata": {
    "colab": {
     "base_uri": "https://localhost:8080/",
     "height": 971
    },
    "id": "YTXQDu-4jXSb",
    "outputId": "31ebaa20-1270-4998-e06d-4be846f472ba"
   },
   "outputs": [
    {
     "data": {
      "image/png": "[encoded data removed]",
      "text/plain": [
       "<Figure size 1368x1080 with 2 Axes>"
      ]
     },
     "metadata": {
      "needs_background": "light"
     },
     "output_type": "display_data"
    }
   ],
   "source": [
    "#plotting the correlation matrix \n",
    "f = plt.figure(figsize=(19, 15))\n",
    "plt.matshow(df.corr(), fignum=f.number)\n",
    "search = '_x'\n",
    "\n",
    "plt.xticks(range(df.select_dtypes(['number']).shape[1]), df.select_dtypes(['number']).columns, fontsize=14, rotation=45)\n",
    "plt.yticks(range(df.select_dtypes(['number']).shape[1]), df.select_dtypes(['number']).columns, fontsize=14)\n",
    "cb = plt.colorbar()\n",
    "cb.ax.tick_params(labelsize=14)"
   ]
  },
  {
   "cell_type": "markdown",
   "metadata": {
    "id": "eavRug9pj8Kp"
   },
   "source": [
    "#Training Model"
   ]
  },
  {
   "cell_type": "code",
   "execution_count": 60,
   "metadata": {
    "id": "J0lptUiUdZVZ"
   },
   "outputs": [],
   "source": [
    "#splitting the train and test datas \n",
    "X_dev, X_test, y_dev, y_test = train_test_split( X, y, test_size=0.20, random_state=42)\n",
    "#Splitting the data into validation and train test\n",
    "X_train, X_val, y_train, y_val = train_test_split( X_dev, y_dev, test_size=0.20, random_state=42)"
   ]
  },
  {
   "cell_type": "code",
   "execution_count": 32,
   "metadata": {
    "colab": {
     "base_uri": "https://localhost:8080/"
    },
    "id": "GfsgXCsZg_f7",
    "outputId": "d23a27ed-bab6-4938-e5a1-6a820ad94b69"
   },
   "outputs": [
    {
     "name": "stdout",
     "output_type": "stream",
     "text": [
      "Shape of the dataset\n",
      "Train  (296, 24)\n",
      "Test  (93, 24)\n",
      "Validation  (75, 24)\n"
     ]
    }
   ],
   "source": [
    "print(\"Shape of the dataset\")\n",
    "print(\"Train \", X_train.shape)\n",
    "print(\"Test \", X_test.shape)\n",
    "print(\"Validation \", X_val.shape)\n",
    "input_shape = X_train.shape"
   ]
  },
  {
   "cell_type": "code",
   "execution_count": 72,
   "metadata": {
    "colab": {
     "base_uri": "https://localhost:8080/"
    },
    "id": "GkMchbPtWt0K",
    "outputId": "3945480c-7b21-4487-a84a-8752e7547458"
   },
   "outputs": [
    {
     "name": "stderr",
     "output_type": "stream",
     "text": [
      "/usr/local/lib/python3.8/dist-packages/keras/optimizers/optimizer_v2/adam.py:110: UserWarning: The `lr` argument is deprecated, use `learning_rate` instead.\n",
      "  super(Adam, self).__init__(name, **kwargs)\n"
     ]
    }
   ],
   "source": [
    "#Building custom model \n",
    "model = Sequential()\n",
    "model.add(Dense(24,  activation = \"relu\"))\n",
    "model.add(Dense(64, activation = \"relu\"))\n",
    "model.add(Dropout(0.1))\n",
    "model.add(Dense(32, activation = \"relu\"))\n",
    "model.add(Dense(64, activation = \"relu\"))\n",
    "model.add(Dense(32, activation = \"relu\"))\n",
    "model.add(Dropout(0.1))\n",
    "model.add(Dense(24, activation = \"softmax\"))\n",
    "model.compile(Adam(lr = 0.01), \"sparse_categorical_crossentropy\", metrics = [\"accuracy\"])"
   ]
  },
  {
   "cell_type": "code",
   "execution_count": 73,
   "metadata": {
    "colab": {
     "base_uri": "https://localhost:8080/"
    },
    "id": "-4jY-BE-hhBX",
    "outputId": "a9ce2d0c-036e-4848-bbce-d40077d1c2d0"
   },
   "outputs": [
    {
     "name": "stdout",
     "output_type": "stream",
     "text": [
      "Model: \"sequential_8\"\n",
      "_________________________________________________________________\n",
      " Layer (type)                Output Shape              Param #   \n",
      "=================================================================\n",
      " dense_34 (Dense)            (296, 24)                 600       \n",
      "                                                                 \n",
      " dense_35 (Dense)            (296, 64)                 1600      \n",
      "                                                                 \n",
      " dropout_7 (Dropout)         (296, 64)                 0         \n",
      "                                                                 \n",
      " dense_36 (Dense)            (296, 32)                 2080      \n",
      "                                                                 \n",
      " dense_37 (Dense)            (296, 64)                 2112      \n",
      "                                                                 \n",
      " dense_38 (Dense)            (296, 32)                 2080      \n",
      "                                                                 \n",
      " dropout_8 (Dropout)         (296, 32)                 0         \n",
      "                                                                 \n",
      " dense_39 (Dense)            (296, 24)                 792       \n",
      "                                                                 \n",
      "=================================================================\n",
      "Total params: 9,264\n",
      "Trainable params: 9,264\n",
      "Non-trainable params: 0\n",
      "_________________________________________________________________\n"
     ]
    }
   ],
   "source": [
    "model.build(input_shape)\n",
    "model.summary()"
   ]
  },
  {
   "cell_type": "code",
   "execution_count": 74,
   "metadata": {
    "colab": {
     "base_uri": "https://localhost:8080/"
    },
    "id": "a5JgJHBjW0SZ",
    "outputId": "c6899034-3222-4be1-baf0-2cdf371de1a6"
   },
   "outputs": [
    {
     "name": "stdout",
     "output_type": "stream",
     "text": [
      "Epoch 1/50\n",
      "10/10 [==============================] - 1s 20ms/step - loss: 2.4524 - accuracy: 0.2061 - val_loss: 1.9054 - val_accuracy: 0.1067\n",
      "Epoch 2/50\n",
      "10/10 [==============================] - 0s 4ms/step - loss: 1.7961 - accuracy: 0.1993 - val_loss: 1.5378 - val_accuracy: 0.3333\n",
      "Epoch 3/50\n",
      "10/10 [==============================] - 0s 4ms/step - loss: 1.5654 - accuracy: 0.3311 - val_loss: 1.3939 - val_accuracy: 0.2667\n",
      "Epoch 4/50\n",
      "10/10 [==============================] - 0s 6ms/step - loss: 1.2423 - accuracy: 0.4223 - val_loss: 1.0729 - val_accuracy: 0.4667\n",
      "Epoch 5/50\n",
      "10/10 [==============================] - 0s 4ms/step - loss: 1.0583 - accuracy: 0.5236 - val_loss: 1.1993 - val_accuracy: 0.4000\n",
      "Epoch 6/50\n",
      "10/10 [==============================] - 0s 4ms/step - loss: 1.1337 - accuracy: 0.4527 - val_loss: 0.8699 - val_accuracy: 0.6533\n",
      "Epoch 7/50\n",
      "10/10 [==============================] - 0s 5ms/step - loss: 0.9882 - accuracy: 0.5372 - val_loss: 0.8574 - val_accuracy: 0.6267\n",
      "Epoch 8/50\n",
      "10/10 [==============================] - 0s 5ms/step - loss: 0.8568 - accuracy: 0.6284 - val_loss: 1.8076 - val_accuracy: 0.5467\n",
      "Epoch 9/50\n",
      "10/10 [==============================] - 0s 5ms/step - loss: 1.0831 - accuracy: 0.4899 - val_loss: 0.7704 - val_accuracy: 0.6933\n",
      "Epoch 10/50\n",
      "10/10 [==============================] - 0s 4ms/step - loss: 0.8856 - accuracy: 0.6351 - val_loss: 0.8564 - val_accuracy: 0.6933\n",
      "Epoch 11/50\n",
      "10/10 [==============================] - 0s 4ms/step - loss: 0.8261 - accuracy: 0.6689 - val_loss: 0.6121 - val_accuracy: 0.7600\n",
      "Epoch 12/50\n",
      "10/10 [==============================] - 0s 4ms/step - loss: 0.8802 - accuracy: 0.6149 - val_loss: 0.5966 - val_accuracy: 0.8400\n",
      "Epoch 13/50\n",
      "10/10 [==============================] - 0s 4ms/step - loss: 0.7666 - accuracy: 0.6926 - val_loss: 0.7573 - val_accuracy: 0.7467\n",
      "Epoch 14/50\n",
      "10/10 [==============================] - 0s 4ms/step - loss: 0.7094 - accuracy: 0.7264 - val_loss: 0.6371 - val_accuracy: 0.7867\n",
      "Epoch 15/50\n",
      "10/10 [==============================] - 0s 6ms/step - loss: 0.6405 - accuracy: 0.7568 - val_loss: 0.4325 - val_accuracy: 0.9067\n",
      "Epoch 16/50\n",
      "10/10 [==============================] - 0s 4ms/step - loss: 0.5968 - accuracy: 0.7635 - val_loss: 0.4275 - val_accuracy: 0.8933\n",
      "Epoch 17/50\n",
      "10/10 [==============================] - 0s 4ms/step - loss: 0.5578 - accuracy: 0.7905 - val_loss: 0.4273 - val_accuracy: 0.8267\n",
      "Epoch 18/50\n",
      "10/10 [==============================] - 0s 5ms/step - loss: 0.5637 - accuracy: 0.8007 - val_loss: 0.5577 - val_accuracy: 0.7867\n",
      "Epoch 19/50\n",
      "10/10 [==============================] - 0s 5ms/step - loss: 0.6322 - accuracy: 0.7568 - val_loss: 0.6286 - val_accuracy: 0.8133\n",
      "Epoch 20/50\n",
      "10/10 [==============================] - 0s 4ms/step - loss: 0.6044 - accuracy: 0.7669 - val_loss: 0.7776 - val_accuracy: 0.7067\n",
      "Epoch 21/50\n",
      "10/10 [==============================] - 0s 5ms/step - loss: 0.6292 - accuracy: 0.7669 - val_loss: 0.4606 - val_accuracy: 0.8533\n",
      "Epoch 22/50\n",
      "10/10 [==============================] - 0s 5ms/step - loss: 0.5809 - accuracy: 0.7736 - val_loss: 0.3650 - val_accuracy: 0.8667\n",
      "Epoch 23/50\n",
      "10/10 [==============================] - 0s 4ms/step - loss: 0.5034 - accuracy: 0.7939 - val_loss: 0.4738 - val_accuracy: 0.8000\n",
      "Epoch 24/50\n",
      "10/10 [==============================] - 0s 4ms/step - loss: 0.4692 - accuracy: 0.8108 - val_loss: 0.3105 - val_accuracy: 0.8800\n",
      "Epoch 25/50\n",
      "10/10 [==============================] - 0s 4ms/step - loss: 0.4387 - accuracy: 0.8277 - val_loss: 0.3643 - val_accuracy: 0.8267\n",
      "Epoch 26/50\n",
      "10/10 [==============================] - 0s 4ms/step - loss: 0.4742 - accuracy: 0.8108 - val_loss: 0.4425 - val_accuracy: 0.8533\n",
      "Epoch 27/50\n",
      "10/10 [==============================] - 0s 4ms/step - loss: 0.4398 - accuracy: 0.8514 - val_loss: 0.3317 - val_accuracy: 0.8667\n",
      "Epoch 28/50\n",
      "10/10 [==============================] - 0s 5ms/step - loss: 0.3839 - accuracy: 0.8615 - val_loss: 0.5021 - val_accuracy: 0.8133\n",
      "Epoch 29/50\n",
      "10/10 [==============================] - 0s 4ms/step - loss: 0.5750 - accuracy: 0.7939 - val_loss: 0.3857 - val_accuracy: 0.8400\n",
      "Epoch 30/50\n",
      "10/10 [==============================] - 0s 5ms/step - loss: 0.4095 - accuracy: 0.8547 - val_loss: 0.3785 - val_accuracy: 0.8800\n",
      "Epoch 31/50\n",
      "10/10 [==============================] - 0s 4ms/step - loss: 0.3996 - accuracy: 0.8446 - val_loss: 0.8363 - val_accuracy: 0.6800\n",
      "Epoch 32/50\n",
      "10/10 [==============================] - 0s 4ms/step - loss: 0.6390 - accuracy: 0.7635 - val_loss: 0.3910 - val_accuracy: 0.8400\n",
      "Epoch 33/50\n",
      "10/10 [==============================] - 0s 5ms/step - loss: 0.6471 - accuracy: 0.7432 - val_loss: 0.5072 - val_accuracy: 0.8533\n",
      "Epoch 34/50\n",
      "10/10 [==============================] - 0s 4ms/step - loss: 0.5353 - accuracy: 0.8074 - val_loss: 0.4138 - val_accuracy: 0.8800\n",
      "Epoch 35/50\n",
      "10/10 [==============================] - 0s 4ms/step - loss: 0.4217 - accuracy: 0.8345 - val_loss: 0.3302 - val_accuracy: 0.9067\n",
      "Epoch 36/50\n",
      "10/10 [==============================] - 0s 4ms/step - loss: 0.3654 - accuracy: 0.8649 - val_loss: 0.2725 - val_accuracy: 0.9333\n",
      "Epoch 37/50\n",
      "10/10 [==============================] - 0s 4ms/step - loss: 0.3541 - accuracy: 0.8615 - val_loss: 0.2573 - val_accuracy: 0.9200\n",
      "Epoch 38/50\n",
      "10/10 [==============================] - 0s 5ms/step - loss: 0.3635 - accuracy: 0.8784 - val_loss: 0.2671 - val_accuracy: 0.9067\n",
      "Epoch 39/50\n",
      "10/10 [==============================] - 0s 7ms/step - loss: 0.3925 - accuracy: 0.8514 - val_loss: 0.3769 - val_accuracy: 0.8533\n",
      "Epoch 40/50\n",
      "10/10 [==============================] - 0s 7ms/step - loss: 0.3960 - accuracy: 0.8446 - val_loss: 0.3892 - val_accuracy: 0.8667\n",
      "Epoch 41/50\n",
      "10/10 [==============================] - 0s 4ms/step - loss: 0.4141 - accuracy: 0.8784 - val_loss: 0.3802 - val_accuracy: 0.8667\n",
      "Epoch 42/50\n",
      "10/10 [==============================] - 0s 5ms/step - loss: 0.3700 - accuracy: 0.8851 - val_loss: 0.3447 - val_accuracy: 0.8933\n",
      "Epoch 43/50\n",
      "10/10 [==============================] - 0s 4ms/step - loss: 0.3285 - accuracy: 0.8784 - val_loss: 0.3423 - val_accuracy: 0.8533\n",
      "Epoch 44/50\n",
      "10/10 [==============================] - 0s 4ms/step - loss: 0.3916 - accuracy: 0.8615 - val_loss: 0.4210 - val_accuracy: 0.8533\n",
      "Epoch 45/50\n",
      "10/10 [==============================] - 0s 4ms/step - loss: 0.3891 - accuracy: 0.8547 - val_loss: 0.2888 - val_accuracy: 0.8933\n",
      "Epoch 46/50\n",
      "10/10 [==============================] - 0s 4ms/step - loss: 0.3382 - accuracy: 0.8682 - val_loss: 0.2450 - val_accuracy: 0.9333\n",
      "Epoch 47/50\n",
      "10/10 [==============================] - 0s 4ms/step - loss: 0.3383 - accuracy: 0.8784 - val_loss: 0.2250 - val_accuracy: 0.9200\n",
      "Epoch 48/50\n",
      "10/10 [==============================] - 0s 4ms/step - loss: 0.3141 - accuracy: 0.8986 - val_loss: 0.2983 - val_accuracy: 0.9333\n",
      "Epoch 49/50\n",
      "10/10 [==============================] - 0s 5ms/step - loss: 0.3295 - accuracy: 0.8885 - val_loss: 0.3591 - val_accuracy: 0.8533\n",
      "Epoch 50/50\n",
      "10/10 [==============================] - 0s 5ms/step - loss: 0.3525 - accuracy: 0.8649 - val_loss: 0.2499 - val_accuracy: 0.9467\n"
     ]
    },
    {
     "data": {
      "text/plain": [
       "<keras.callbacks.History at 0x7f821908c160>"
      ]
     },
     "execution_count": 74,
     "metadata": {},
     "output_type": "execute_result"
    }
   ],
   "source": [
    "model.fit(X_train, y_train, verbose=1, validation_data=(X_val, y_val), epochs=50)"
   ]
  },
  {
   "cell_type": "code",
   "execution_count": 77,
   "metadata": {
    "colab": {
     "base_uri": "https://localhost:8080/"
    },
    "id": "PghHskAJXSzf",
    "outputId": "5808ce33-c956-448e-90a1-49ccbe24db5f"
   },
   "outputs": [
    {
     "name": "stdout",
     "output_type": "stream",
     "text": [
      "3/3 [==============================] - 0s 3ms/step\n"
     ]
    },
    {
     "data": {
      "text/plain": [
       "array([[27,  0,  0,  0,  0],\n",
       "       [ 0,  6,  1,  1,  1],\n",
       "       [ 0,  0, 16,  0,  0],\n",
       "       [ 0,  1,  0,  7,  0],\n",
       "       [ 0,  5,  0,  1, 27]])"
      ]
     },
     "execution_count": 77,
     "metadata": {},
     "output_type": "execute_result"
    }
   ],
   "source": [
    "y_pred = model.predict(X_test)\n",
    "y_pred_classes = np.argmax(y_pred, axis=1)\n",
    "confusion_matrix(y_test, y_pred_classes)"
   ]
  },
  {
   "cell_type": "code",
   "execution_count": 78,
   "metadata": {
    "colab": {
     "base_uri": "https://localhost:8080/"
    },
    "id": "E6XEsmp0XYzK",
    "outputId": "bce8ded7-d215-4b16-a1fe-a7fc7cf9fb2a"
   },
   "outputs": [
    {
     "name": "stdout",
     "output_type": "stream",
     "text": [
      "              precision    recall  f1-score   support\n",
      "\n",
      "           0       1.00      1.00      1.00        27\n",
      "           1       0.50      0.67      0.57         9\n",
      "           2       0.94      1.00      0.97        16\n",
      "           3       0.78      0.88      0.82         8\n",
      "           4       0.96      0.82      0.89        33\n",
      "\n",
      "    accuracy                           0.89        93\n",
      "   macro avg       0.84      0.87      0.85        93\n",
      "weighted avg       0.91      0.89      0.90        93\n",
      "\n"
     ]
    }
   ],
   "source": [
    "print(classification_report(y_test, y_pred_classes))"
   ]
  },
  {
   "cell_type": "code",
   "execution_count": null,
   "metadata": {
    "id": "dnCdoBHlghPY"
   },
   "outputs": [],
   "source": [
    "#Saving the model\n",
    "model_json = model.to_json()\n",
    "with open(\"model.json\", \"w\") as json_file:\n",
    "    json_file.write(model_json)\n",
    "# serialize weights to HDF5\n",
    "model.save_weights(\"model.h5\")"
   ]
  }
 ],
 "metadata": {
  "colab": {
   "provenance": []
  },
  "kernelspec": {
   "display_name": "Python 3 (ipykernel)",
   "language": "python",
   "name": "python3"
  },
  "language_info": {
   "codemirror_mode": {
    "name": "ipython",
    "version": 3
   },
   "file_extension": ".py",
   "mimetype": "text/x-python",
   "name": "python",
   "nbconvert_exporter": "python",
   "pygments_lexer": "ipython3",
   "version": "3.9.12"
  }
 },
 "nbformat": 4,
 "nbformat_minor": 1
}
