{
 "cells": [
  {
   "cell_type": "markdown",
   "metadata": {
    "id": "ZObnILgST2-y"
   },
   "source": [
    "# Summary : File for training the  posenet coordinates and generating the model for classification."
   ]
  },
  {
   "cell_type": "code",
   "execution_count": 4,
   "metadata": {},
   "outputs": [],
   "source": [
    "import pandas as pd\n",
    "import numpy as np\n",
    "import matplotlib.pyplot as plt\n",
    "import tensorflow as tf\n",
    "from sklearn import preprocessing\n",
    "from sklearn.model_selection import train_test_split\n",
    "# first neural network with keras make predictions\n",
    "from numpy import loadtxt\n",
    "from tensorflow.keras.models import Sequential\n",
    "from tensorflow.keras.layers import Dense, Dropout\n",
    "from keras.layers import Dense\n",
    "from keras.wrappers.scikit_learn import KerasClassifier\n",
    "from sklearn.model_selection import cross_val_score\n",
    "from sklearn.model_selection import KFold\n",
    "from keras.optimizers import SGD, Adam, Adadelta, RMSprop\n",
    "\n",
    "from sklearn.metrics import confusion_matrix\n",
    "from sklearn.metrics import classification_report"
   ]
  },
  {
   "cell_type": "code",
   "execution_count": 5,
   "metadata": {
    "id": "LwmPkeOST9jq"
   },
   "outputs": [],
   "source": [
    "#Provide link to the dataset from google drive. \n",
    "df = pd.read_csv(\"dataset.csv\")"
   ]
  },
  {
   "cell_type": "code",
   "execution_count": 6,
   "metadata": {
    "colab": {
     "base_uri": "https://localhost:8080/",
     "height": 317
    },
    "id": "z3WhRFBuUBjS",
    "outputId": "b569b283-7ecf-44d3-93eb-66e14d315491"
   },
   "outputs": [
    {
     "data": {
      "text/html": [
       "<div>\n",
       "<style scoped>\n",
       "    .dataframe tbody tr th:only-of-type {\n",
       "        vertical-align: middle;\n",
       "    }\n",
       "\n",
       "    .dataframe tbody tr th {\n",
       "        vertical-align: top;\n",
       "    }\n",
       "\n",
       "    .dataframe thead th {\n",
       "        text-align: right;\n",
       "    }\n",
       "</style>\n",
       "<table border=\"1\" class=\"dataframe\">\n",
       "  <thead>\n",
       "    <tr style=\"text-align: right;\">\n",
       "      <th></th>\n",
       "      <th>Unnamed: 0</th>\n",
       "      <th>nose_x</th>\n",
       "      <th>nose_y</th>\n",
       "      <th>left_eye_x</th>\n",
       "      <th>left_eye_y</th>\n",
       "      <th>right_eye_x</th>\n",
       "      <th>right_eye_y</th>\n",
       "      <th>left_ear_x</th>\n",
       "      <th>left_ear_y</th>\n",
       "      <th>right_ear_x</th>\n",
       "      <th>...</th>\n",
       "      <th>right_hip_y</th>\n",
       "      <th>left_knee_x</th>\n",
       "      <th>left_knee_y</th>\n",
       "      <th>right_knee_x</th>\n",
       "      <th>right_knee_y</th>\n",
       "      <th>left_ankle_x</th>\n",
       "      <th>left_ankle_y</th>\n",
       "      <th>right_ankle_x</th>\n",
       "      <th>right_ankle_y</th>\n",
       "      <th>target</th>\n",
       "    </tr>\n",
       "  </thead>\n",
       "  <tbody>\n",
       "    <tr>\n",
       "      <th>0</th>\n",
       "      <td>0</td>\n",
       "      <td>0.649173</td>\n",
       "      <td>0.523219</td>\n",
       "      <td>0.657339</td>\n",
       "      <td>0.503735</td>\n",
       "      <td>0.655636</td>\n",
       "      <td>0.504516</td>\n",
       "      <td>0.630299</td>\n",
       "      <td>0.455352</td>\n",
       "      <td>0.636445</td>\n",
       "      <td>...</td>\n",
       "      <td>0.666943</td>\n",
       "      <td>0.540174</td>\n",
       "      <td>0.773534</td>\n",
       "      <td>0.539856</td>\n",
       "      <td>0.762104</td>\n",
       "      <td>0.699938</td>\n",
       "      <td>0.878527</td>\n",
       "      <td>0.673206</td>\n",
       "      <td>0.852668</td>\n",
       "      <td>downdog</td>\n",
       "    </tr>\n",
       "    <tr>\n",
       "      <th>1</th>\n",
       "      <td>1</td>\n",
       "      <td>0.655792</td>\n",
       "      <td>0.575658</td>\n",
       "      <td>0.660437</td>\n",
       "      <td>0.590248</td>\n",
       "      <td>0.655015</td>\n",
       "      <td>0.590673</td>\n",
       "      <td>0.636295</td>\n",
       "      <td>0.615927</td>\n",
       "      <td>0.623701</td>\n",
       "      <td>...</td>\n",
       "      <td>0.426795</td>\n",
       "      <td>0.543175</td>\n",
       "      <td>0.299537</td>\n",
       "      <td>0.544742</td>\n",
       "      <td>0.302838</td>\n",
       "      <td>0.675126</td>\n",
       "      <td>0.180818</td>\n",
       "      <td>0.675930</td>\n",
       "      <td>0.177933</td>\n",
       "      <td>downdog</td>\n",
       "    </tr>\n",
       "    <tr>\n",
       "      <th>2</th>\n",
       "      <td>2</td>\n",
       "      <td>0.659473</td>\n",
       "      <td>0.599582</td>\n",
       "      <td>0.660218</td>\n",
       "      <td>0.620654</td>\n",
       "      <td>0.662387</td>\n",
       "      <td>0.619791</td>\n",
       "      <td>0.615932</td>\n",
       "      <td>0.658006</td>\n",
       "      <td>0.614723</td>\n",
       "      <td>...</td>\n",
       "      <td>0.379610</td>\n",
       "      <td>0.537431</td>\n",
       "      <td>0.221986</td>\n",
       "      <td>0.542609</td>\n",
       "      <td>0.222733</td>\n",
       "      <td>0.732093</td>\n",
       "      <td>0.105802</td>\n",
       "      <td>0.746955</td>\n",
       "      <td>0.084199</td>\n",
       "      <td>downdog</td>\n",
       "    </tr>\n",
       "    <tr>\n",
       "      <th>3</th>\n",
       "      <td>3</td>\n",
       "      <td>0.671158</td>\n",
       "      <td>0.542812</td>\n",
       "      <td>0.679293</td>\n",
       "      <td>0.560280</td>\n",
       "      <td>0.676892</td>\n",
       "      <td>0.559193</td>\n",
       "      <td>0.651990</td>\n",
       "      <td>0.601257</td>\n",
       "      <td>0.644605</td>\n",
       "      <td>...</td>\n",
       "      <td>0.411304</td>\n",
       "      <td>0.529392</td>\n",
       "      <td>0.294301</td>\n",
       "      <td>0.532135</td>\n",
       "      <td>0.295052</td>\n",
       "      <td>0.703284</td>\n",
       "      <td>0.193187</td>\n",
       "      <td>0.710546</td>\n",
       "      <td>0.181630</td>\n",
       "      <td>downdog</td>\n",
       "    </tr>\n",
       "    <tr>\n",
       "      <th>4</th>\n",
       "      <td>4</td>\n",
       "      <td>0.607264</td>\n",
       "      <td>0.357824</td>\n",
       "      <td>0.612975</td>\n",
       "      <td>0.337642</td>\n",
       "      <td>0.614474</td>\n",
       "      <td>0.339381</td>\n",
       "      <td>0.570222</td>\n",
       "      <td>0.307927</td>\n",
       "      <td>0.576377</td>\n",
       "      <td>...</td>\n",
       "      <td>0.563056</td>\n",
       "      <td>0.485910</td>\n",
       "      <td>0.705451</td>\n",
       "      <td>0.492973</td>\n",
       "      <td>0.701507</td>\n",
       "      <td>0.673677</td>\n",
       "      <td>0.831081</td>\n",
       "      <td>0.666935</td>\n",
       "      <td>0.816390</td>\n",
       "      <td>downdog</td>\n",
       "    </tr>\n",
       "  </tbody>\n",
       "</table>\n",
       "<p>5 rows × 36 columns</p>\n",
       "</div>"
      ],
      "text/plain": [
       "   Unnamed: 0    nose_x    nose_y  left_eye_x  left_eye_y  right_eye_x  \\\n",
       "0           0  0.649173  0.523219    0.657339    0.503735     0.655636   \n",
       "1           1  0.655792  0.575658    0.660437    0.590248     0.655015   \n",
       "2           2  0.659473  0.599582    0.660218    0.620654     0.662387   \n",
       "3           3  0.671158  0.542812    0.679293    0.560280     0.676892   \n",
       "4           4  0.607264  0.357824    0.612975    0.337642     0.614474   \n",
       "\n",
       "   right_eye_y  left_ear_x  left_ear_y  right_ear_x  ...  right_hip_y  \\\n",
       "0     0.504516    0.630299    0.455352     0.636445  ...     0.666943   \n",
       "1     0.590673    0.636295    0.615927     0.623701  ...     0.426795   \n",
       "2     0.619791    0.615932    0.658006     0.614723  ...     0.379610   \n",
       "3     0.559193    0.651990    0.601257     0.644605  ...     0.411304   \n",
       "4     0.339381    0.570222    0.307927     0.576377  ...     0.563056   \n",
       "\n",
       "   left_knee_x  left_knee_y  right_knee_x  right_knee_y  left_ankle_x  \\\n",
       "0     0.540174     0.773534      0.539856      0.762104      0.699938   \n",
       "1     0.543175     0.299537      0.544742      0.302838      0.675126   \n",
       "2     0.537431     0.221986      0.542609      0.222733      0.732093   \n",
       "3     0.529392     0.294301      0.532135      0.295052      0.703284   \n",
       "4     0.485910     0.705451      0.492973      0.701507      0.673677   \n",
       "\n",
       "   left_ankle_y  right_ankle_x  right_ankle_y   target  \n",
       "0      0.878527       0.673206       0.852668  downdog  \n",
       "1      0.180818       0.675930       0.177933  downdog  \n",
       "2      0.105802       0.746955       0.084199  downdog  \n",
       "3      0.193187       0.710546       0.181630  downdog  \n",
       "4      0.831081       0.666935       0.816390  downdog  \n",
       "\n",
       "[5 rows x 36 columns]"
      ]
     },
     "execution_count": 6,
     "metadata": {},
     "output_type": "execute_result"
    }
   ],
   "source": [
    "df.head()"
   ]
  },
  {
   "cell_type": "code",
   "execution_count": 7,
   "metadata": {
    "id": "0Zs3yYgsWRHU"
   },
   "outputs": [],
   "source": [
    "df.index = df['Unnamed: 0']\n",
    "df.drop('Unnamed: 0', axis=1, inplace=True)"
   ]
  },
  {
   "cell_type": "code",
   "execution_count": 8,
   "metadata": {
    "colab": {
     "base_uri": "https://localhost:8080/"
    },
    "id": "9U7_PR6YUKjp",
    "outputId": "ec4c1532-5b54-4a1b-c14b-649c19c030e6"
   },
   "outputs": [
    {
     "name": "stdout",
     "output_type": "stream",
     "text": [
      "Drop :  nose_x\n",
      "Drop :  nose_y\n",
      "Drop :  left_eye_x\n",
      "Drop :  left_eye_y\n",
      "Drop :  right_eye_x\n",
      "Drop :  right_eye_y\n",
      "Drop :  left_ear_x\n",
      "Drop :  left_ear_y\n",
      "Drop :  right_ear_x\n",
      "Drop :  right_ear_y\n"
     ]
    }
   ],
   "source": [
    "#Cleaning the data => Removing columns with nose, ear and eye\n",
    "points_to_remove = ['nose','ear','eye']\n",
    "for c in df.columns:\n",
    "       for point in points_to_remove:\n",
    "         if(point in c):\n",
    "           print(\"Drop : \",c)\n",
    "           df.drop(c, axis=1, inplace=True)"
   ]
  },
  {
   "cell_type": "code",
   "execution_count": 9,
   "metadata": {
    "colab": {
     "base_uri": "https://localhost:8080/"
    },
    "id": "o2xhD7Dub3kM",
    "outputId": "6acf41e4-aaff-4013-a039-54e3383cc5fb"
   },
   "outputs": [
    {
     "data": {
      "text/plain": [
       "(470, 25)"
      ]
     },
     "execution_count": 9,
     "metadata": {},
     "output_type": "execute_result"
    }
   ],
   "source": [
    "df.shape\n",
    "#25 columns in the data frame => taking 24 co ordinates to detect a pose"
   ]
  },
  {
   "cell_type": "code",
   "execution_count": 10,
   "metadata": {
    "colab": {
     "base_uri": "https://localhost:8080/"
    },
    "id": "rn4Q2lDIWOtR",
    "outputId": "d850af37-cff9-497b-d066-b133b4d19ca0"
   },
   "outputs": [
    {
     "data": {
      "text/plain": [
       "Index(['left_shoulder_x', 'left_shoulder_y', 'right_shoulder_x',\n",
       "       'right_shoulder_y', 'left_elbow_x', 'left_elbow_y', 'right_elbow_x',\n",
       "       'right_elbow_y', 'left_wrist_x', 'left_wrist_y', 'right_wrist_x',\n",
       "       'right_wrist_y', 'left_hip_x', 'left_hip_y', 'right_hip_x',\n",
       "       'right_hip_y', 'left_knee_x', 'left_knee_y', 'right_knee_x',\n",
       "       'right_knee_y', 'left_ankle_x', 'left_ankle_y', 'right_ankle_x',\n",
       "       'right_ankle_y', 'target'],\n",
       "      dtype='object')"
      ]
     },
     "execution_count": 10,
     "metadata": {},
     "output_type": "execute_result"
    }
   ],
   "source": [
    "df.columns"
   ]
  },
  {
   "cell_type": "code",
   "execution_count": 11,
   "metadata": {
    "colab": {
     "base_uri": "https://localhost:8080/",
     "height": 295
    },
    "id": "P-udjdtXWWtm",
    "outputId": "df22ee5b-aa35-48c7-a20d-1b33c1bc663e"
   },
   "outputs": [
    {
     "data": {
      "image/png": "[encoded data removed]",
      "text/plain": [
       "<Figure size 432x288 with 1 Axes>"
      ]
     },
     "metadata": {
      "needs_background": "light"
     },
     "output_type": "display_data"
    }
   ],
   "source": [
    "#Showing the number of images present for each yoga pose \n",
    "df.target.value_counts().plot(kind='barh')\n",
    "plt.title(\"Distribution of the data \")\n",
    "plt.xlabel(\"Count of the Poses\")\n",
    "plt.ylabel(\"Target Labels\")\n",
    "plt.show()"
   ]
  },
  {
   "cell_type": "code",
   "execution_count": 12,
   "metadata": {
    "id": "057J237bWYyc"
   },
   "outputs": [],
   "source": [
    "#Separating input(X=>all the coordinates of joints) and output(Y=>pose) data \n",
    "X = df.drop(columns=['target'])\n",
    "y_temp = df['target']"
   ]
  },
  {
   "cell_type": "code",
   "execution_count": 13,
   "metadata": {
    "id": "tUNTzLwqrHnc"
   },
   "outputs": [],
   "source": [
    "#Encoding the target variables with labels for each class \n",
    "le = preprocessing.LabelEncoder()\n",
    "y = le.fit_transform(y_temp)"
   ]
  },
  {
   "cell_type": "code",
   "execution_count": 14,
   "metadata": {
    "colab": {
     "base_uri": "https://localhost:8080/"
    },
    "id": "vJzSRP6Plb7N",
    "outputId": "c31a0939-055f-4e1f-e499-ac6a6010e8a6"
   },
   "outputs": [
    {
     "name": "stdout",
     "output_type": "stream",
     "text": [
      "0 downdog\n",
      "1 goddess\n",
      "2 plank\n",
      "3 tree\n",
      "4 warrior2\n"
     ]
    }
   ],
   "source": [
    "#showing labels assigned to each pose \n",
    "poses = ['downdog', 'goddess', 'plank', 'tree', 'warrior2']\n",
    "encoded_data, mapping_index = pd.Series(poses).factorize()\n",
    "for data in encoded_data:\n",
    "    print(data, mapping_index[data])"
   ]
  },
  {
   "cell_type": "code",
   "execution_count": 71,
   "metadata": {
    "colab": {
     "base_uri": "https://localhost:8080/",
     "height": 971
    },
    "id": "YTXQDu-4jXSb",
    "outputId": "31ebaa20-1270-4998-e06d-4be846f472ba"
   },
   "outputs": [
    {
     "data": {
      "image/png": "[encoded data removed]",
      "text/plain": [
       "<Figure size 1368x1080 with 2 Axes>"
      ]
     },
     "metadata": {
      "needs_background": "light"
     },
     "output_type": "display_data"
    }
   ],
   "source": [
    "#plotting the correlation matrix \n",
    "f = plt.figure(figsize=(19, 15))\n",
    "plt.matshow(df.corr(), fignum=f.number)\n",
    "search = '_x'\n",
    "\n",
    "plt.xticks(range(df.select_dtypes(['number']).shape[1]), df.select_dtypes(['number']).columns, fontsize=14, rotation=45)\n",
    "plt.yticks(range(df.select_dtypes(['number']).shape[1]), df.select_dtypes(['number']).columns, fontsize=14)\n",
    "cb = plt.colorbar()\n",
    "cb.ax.tick_params(labelsize=14)"
   ]
  },
  {
   "cell_type": "markdown",
   "metadata": {
    "id": "eavRug9pj8Kp"
   },
   "source": [
    "#Training Model"
   ]
  },
  {
   "cell_type": "code",
   "execution_count": 15,
   "metadata": {
    "id": "J0lptUiUdZVZ"
   },
   "outputs": [],
   "source": [
    "#splitting the train and test datas \n",
    "X_dev, X_test, y_dev, y_test = train_test_split( X, y, test_size=0.20, random_state=42)\n",
    "#Splitting the data into validation and train test\n",
    "X_train, X_val, y_train, y_val = train_test_split( X_dev, y_dev, test_size=0.20, random_state=42)"
   ]
  },
  {
   "cell_type": "code",
   "execution_count": 16,
   "metadata": {
    "colab": {
     "base_uri": "https://localhost:8080/"
    },
    "id": "GfsgXCsZg_f7",
    "outputId": "d23a27ed-bab6-4938-e5a1-6a820ad94b69"
   },
   "outputs": [
    {
     "name": "stdout",
     "output_type": "stream",
     "text": [
      "Shape of the dataset\n",
      "Train  (300, 24)\n",
      "Test  (94, 24)\n",
      "Validation  (76, 24)\n"
     ]
    }
   ],
   "source": [
    "print(\"Shape of the dataset\")\n",
    "print(\"Train \", X_train.shape)\n",
    "print(\"Test \", X_test.shape)\n",
    "print(\"Validation \", X_val.shape)\n",
    "input_shape = X_train.shape"
   ]
  },
  {
   "cell_type": "code",
   "execution_count": 27,
   "metadata": {
    "colab": {
     "base_uri": "https://localhost:8080/"
    },
    "id": "GkMchbPtWt0K",
    "outputId": "3945480c-7b21-4487-a84a-8752e7547458"
   },
   "outputs": [],
   "source": [
    "#Building custom model \n",
    "model = Sequential()\n",
    "model.add(Dense(32,  activation = \"relu\"))\n",
    "model.add(Dense(128, activation = \"relu\"))\n",
    "model.add(Dropout(0.1))\n",
    "model.add(Dense(32, activation = \"relu\"))\n",
    "model.add(Dense(128, activation = \"relu\"))\n",
    "model.add(Dense(64, activation = \"relu\"))\n",
    "model.add(Dropout(0.1))\n",
    "model.add(Dense(32, activation = \"softmax\"))\n",
    "model.compile(Adam(lr = 0.01), \"sparse_categorical_crossentropy\", metrics = [\"accuracy\"])"
   ]
  },
  {
   "cell_type": "code",
   "execution_count": 28,
   "metadata": {
    "colab": {
     "base_uri": "https://localhost:8080/"
    },
    "id": "-4jY-BE-hhBX",
    "outputId": "a9ce2d0c-036e-4848-bbce-d40077d1c2d0"
   },
   "outputs": [
    {
     "name": "stdout",
     "output_type": "stream",
     "text": [
      "Model: \"sequential_2\"\n",
      "_________________________________________________________________\n",
      "Layer (type)                 Output Shape              Param #   \n",
      "=================================================================\n",
      "dense_12 (Dense)             (300, 32)                 800       \n",
      "_________________________________________________________________\n",
      "dense_13 (Dense)             (300, 128)                4224      \n",
      "_________________________________________________________________\n",
      "dropout_4 (Dropout)          (300, 128)                0         \n",
      "_________________________________________________________________\n",
      "dense_14 (Dense)             (300, 32)                 4128      \n",
      "_________________________________________________________________\n",
      "dense_15 (Dense)             (300, 128)                4224      \n",
      "_________________________________________________________________\n",
      "dense_16 (Dense)             (300, 64)                 8256      \n",
      "_________________________________________________________________\n",
      "dropout_5 (Dropout)          (300, 64)                 0         \n",
      "_________________________________________________________________\n",
      "dense_17 (Dense)             (300, 32)                 2080      \n",
      "=================================================================\n",
      "Total params: 23,712\n",
      "Trainable params: 23,712\n",
      "Non-trainable params: 0\n",
      "_________________________________________________________________\n"
     ]
    }
   ],
   "source": [
    "model.build(input_shape)\n",
    "model.summary()"
   ]
  },
  {
   "cell_type": "code",
   "execution_count": 29,
   "metadata": {
    "colab": {
     "base_uri": "https://localhost:8080/"
    },
    "id": "a5JgJHBjW0SZ",
    "outputId": "c6899034-3222-4be1-baf0-2cdf371de1a6"
   },
   "outputs": [
    {
     "name": "stdout",
     "output_type": "stream",
     "text": [
      "Epoch 1/60\n",
      "WARNING:tensorflow:Layer dense_12 is casting an input tensor from dtype float64 to the layer's dtype of float32, which is new behavior in TensorFlow 2.  The layer has dtype float32 because its dtype defaults to floatx.\n",
      "\n",
      "If you intended to run this layer in float32, you can safely ignore this warning. If in doubt, this warning is likely only an issue if you are porting a TensorFlow 1.X model to TensorFlow 2.\n",
      "\n",
      "To change all layers to have dtype float64 by default, call `tf.keras.backend.set_floatx('float64')`. To change just this layer, pass dtype='float64' to the layer constructor. If you are the author of this layer, you can disable autocasting by passing autocast=False to the base Layer constructor.\n",
      "\n",
      "10/10 [==============================] - 0s 14ms/step - loss: 2.3488 - accuracy: 0.2033 - val_loss: 1.6653 - val_accuracy: 0.4868\n",
      "Epoch 2/60\n",
      "10/10 [==============================] - 0s 3ms/step - loss: 1.6484 - accuracy: 0.2367 - val_loss: 1.5752 - val_accuracy: 0.3947\n",
      "Epoch 3/60\n",
      "10/10 [==============================] - 0s 3ms/step - loss: 1.4338 - accuracy: 0.3533 - val_loss: 1.2815 - val_accuracy: 0.3421\n",
      "Epoch 4/60\n",
      "10/10 [==============================] - 0s 3ms/step - loss: 1.3119 - accuracy: 0.3467 - val_loss: 1.1339 - val_accuracy: 0.3947\n",
      "Epoch 5/60\n",
      "10/10 [==============================] - 0s 3ms/step - loss: 1.1566 - accuracy: 0.3900 - val_loss: 1.0775 - val_accuracy: 0.3289\n",
      "Epoch 6/60\n",
      "10/10 [==============================] - 0s 3ms/step - loss: 1.0785 - accuracy: 0.4167 - val_loss: 1.0429 - val_accuracy: 0.5263\n",
      "Epoch 7/60\n",
      "10/10 [==============================] - 0s 3ms/step - loss: 1.0226 - accuracy: 0.4233 - val_loss: 1.0368 - val_accuracy: 0.5395\n",
      "Epoch 8/60\n",
      "10/10 [==============================] - 0s 3ms/step - loss: 0.9763 - accuracy: 0.5500 - val_loss: 0.9344 - val_accuracy: 0.5395\n",
      "Epoch 9/60\n",
      "10/10 [==============================] - 0s 3ms/step - loss: 0.9566 - accuracy: 0.5100 - val_loss: 0.9158 - val_accuracy: 0.4868\n",
      "Epoch 10/60\n",
      "10/10 [==============================] - 0s 3ms/step - loss: 1.0319 - accuracy: 0.5433 - val_loss: 0.9441 - val_accuracy: 0.5921\n",
      "Epoch 11/60\n",
      "10/10 [==============================] - 0s 3ms/step - loss: 0.9627 - accuracy: 0.5800 - val_loss: 0.8499 - val_accuracy: 0.6447\n",
      "Epoch 12/60\n",
      "10/10 [==============================] - 0s 3ms/step - loss: 0.8065 - accuracy: 0.6100 - val_loss: 0.6804 - val_accuracy: 0.7368\n",
      "Epoch 13/60\n",
      "10/10 [==============================] - 0s 3ms/step - loss: 0.7307 - accuracy: 0.6767 - val_loss: 0.7266 - val_accuracy: 0.6053\n",
      "Epoch 14/60\n",
      "10/10 [==============================] - 0s 3ms/step - loss: 0.6930 - accuracy: 0.7033 - val_loss: 0.7779 - val_accuracy: 0.6842\n",
      "Epoch 15/60\n",
      "10/10 [==============================] - 0s 3ms/step - loss: 0.6463 - accuracy: 0.7300 - val_loss: 0.5914 - val_accuracy: 0.7632\n",
      "Epoch 16/60\n",
      "10/10 [==============================] - 0s 3ms/step - loss: 0.5707 - accuracy: 0.7667 - val_loss: 0.5409 - val_accuracy: 0.8158\n",
      "Epoch 17/60\n",
      "10/10 [==============================] - 0s 3ms/step - loss: 0.5875 - accuracy: 0.7800 - val_loss: 0.7001 - val_accuracy: 0.7763\n",
      "Epoch 18/60\n",
      "10/10 [==============================] - 0s 3ms/step - loss: 0.6299 - accuracy: 0.7233 - val_loss: 0.7362 - val_accuracy: 0.6447\n",
      "Epoch 19/60\n",
      "10/10 [==============================] - 0s 3ms/step - loss: 0.5956 - accuracy: 0.7700 - val_loss: 0.5274 - val_accuracy: 0.8026\n",
      "Epoch 20/60\n",
      "10/10 [==============================] - 0s 3ms/step - loss: 0.6067 - accuracy: 0.7600 - val_loss: 0.5623 - val_accuracy: 0.8026\n",
      "Epoch 21/60\n",
      "10/10 [==============================] - 0s 3ms/step - loss: 0.6247 - accuracy: 0.7367 - val_loss: 0.5745 - val_accuracy: 0.8158\n",
      "Epoch 22/60\n",
      "10/10 [==============================] - 0s 3ms/step - loss: 0.6710 - accuracy: 0.7467 - val_loss: 0.7488 - val_accuracy: 0.6842\n",
      "Epoch 23/60\n",
      "10/10 [==============================] - 0s 3ms/step - loss: 0.7476 - accuracy: 0.7333 - val_loss: 0.7092 - val_accuracy: 0.7105\n",
      "Epoch 24/60\n",
      "10/10 [==============================] - 0s 3ms/step - loss: 0.6425 - accuracy: 0.7600 - val_loss: 0.6860 - val_accuracy: 0.6711\n",
      "Epoch 25/60\n",
      "10/10 [==============================] - 0s 3ms/step - loss: 0.5599 - accuracy: 0.7867 - val_loss: 0.6215 - val_accuracy: 0.7763\n",
      "Epoch 26/60\n",
      "10/10 [==============================] - 0s 2ms/step - loss: 0.5601 - accuracy: 0.7467 - val_loss: 0.6121 - val_accuracy: 0.8026\n",
      "Epoch 27/60\n",
      "10/10 [==============================] - 0s 2ms/step - loss: 0.5304 - accuracy: 0.8067 - val_loss: 0.5019 - val_accuracy: 0.8421\n",
      "Epoch 28/60\n",
      "10/10 [==============================] - 0s 3ms/step - loss: 0.5428 - accuracy: 0.7900 - val_loss: 0.6132 - val_accuracy: 0.7763\n",
      "Epoch 29/60\n",
      "10/10 [==============================] - 0s 3ms/step - loss: 0.6024 - accuracy: 0.7400 - val_loss: 0.5278 - val_accuracy: 0.8289\n",
      "Epoch 30/60\n",
      "10/10 [==============================] - 0s 3ms/step - loss: 0.4595 - accuracy: 0.8133 - val_loss: 0.5046 - val_accuracy: 0.7763\n",
      "Epoch 31/60\n",
      "10/10 [==============================] - 0s 3ms/step - loss: 0.4918 - accuracy: 0.8267 - val_loss: 0.4743 - val_accuracy: 0.7895\n",
      "Epoch 32/60\n",
      "10/10 [==============================] - 0s 3ms/step - loss: 0.4843 - accuracy: 0.7800 - val_loss: 0.4917 - val_accuracy: 0.8289\n",
      "Epoch 33/60\n",
      "10/10 [==============================] - 0s 3ms/step - loss: 0.4456 - accuracy: 0.8333 - val_loss: 0.5129 - val_accuracy: 0.7895\n",
      "Epoch 34/60\n",
      "10/10 [==============================] - 0s 3ms/step - loss: 0.3834 - accuracy: 0.8300 - val_loss: 0.5339 - val_accuracy: 0.8026\n",
      "Epoch 35/60\n",
      "10/10 [==============================] - 0s 3ms/step - loss: 0.4371 - accuracy: 0.8133 - val_loss: 0.3991 - val_accuracy: 0.8553\n",
      "Epoch 36/60\n",
      "10/10 [==============================] - 0s 3ms/step - loss: 0.4023 - accuracy: 0.8333 - val_loss: 0.5085 - val_accuracy: 0.8158\n",
      "Epoch 37/60\n",
      "10/10 [==============================] - 0s 3ms/step - loss: 0.3903 - accuracy: 0.8333 - val_loss: 0.4627 - val_accuracy: 0.8289\n",
      "Epoch 38/60\n",
      "10/10 [==============================] - 0s 3ms/step - loss: 0.3675 - accuracy: 0.8733 - val_loss: 0.4706 - val_accuracy: 0.8289\n",
      "Epoch 39/60\n",
      "10/10 [==============================] - 0s 3ms/step - loss: 0.3274 - accuracy: 0.8733 - val_loss: 0.5187 - val_accuracy: 0.8553\n",
      "Epoch 40/60\n",
      "10/10 [==============================] - 0s 3ms/step - loss: 1.1791 - accuracy: 0.6600 - val_loss: 1.2795 - val_accuracy: 0.5263\n",
      "Epoch 41/60\n",
      "10/10 [==============================] - 0s 3ms/step - loss: 0.9043 - accuracy: 0.5967 - val_loss: 0.7887 - val_accuracy: 0.7500\n",
      "Epoch 42/60\n",
      "10/10 [==============================] - 0s 3ms/step - loss: 0.7107 - accuracy: 0.6767 - val_loss: 0.8335 - val_accuracy: 0.7368\n",
      "Epoch 43/60\n",
      "10/10 [==============================] - 0s 3ms/step - loss: 0.6468 - accuracy: 0.7400 - val_loss: 0.6290 - val_accuracy: 0.8026\n",
      "Epoch 44/60\n",
      "10/10 [==============================] - 0s 3ms/step - loss: 0.5384 - accuracy: 0.7733 - val_loss: 0.6434 - val_accuracy: 0.7237\n",
      "Epoch 45/60\n",
      "10/10 [==============================] - 0s 3ms/step - loss: 0.4648 - accuracy: 0.8133 - val_loss: 0.5061 - val_accuracy: 0.8421\n",
      "Epoch 46/60\n",
      "10/10 [==============================] - 0s 3ms/step - loss: 0.3998 - accuracy: 0.8767 - val_loss: 0.4923 - val_accuracy: 0.8553\n",
      "Epoch 47/60\n",
      "10/10 [==============================] - 0s 3ms/step - loss: 0.3556 - accuracy: 0.8800 - val_loss: 0.4067 - val_accuracy: 0.8684\n",
      "Epoch 48/60\n",
      "10/10 [==============================] - 0s 3ms/step - loss: 0.4314 - accuracy: 0.8167 - val_loss: 0.6064 - val_accuracy: 0.7237\n",
      "Epoch 49/60\n",
      "10/10 [==============================] - 0s 3ms/step - loss: 0.3928 - accuracy: 0.8367 - val_loss: 0.4709 - val_accuracy: 0.8026\n",
      "Epoch 50/60\n",
      "10/10 [==============================] - 0s 3ms/step - loss: 0.4070 - accuracy: 0.8533 - val_loss: 0.6085 - val_accuracy: 0.7368\n",
      "Epoch 51/60\n",
      "10/10 [==============================] - 0s 3ms/step - loss: 0.4946 - accuracy: 0.8333 - val_loss: 0.3807 - val_accuracy: 0.8553\n",
      "Epoch 52/60\n",
      "10/10 [==============================] - 0s 3ms/step - loss: 0.3722 - accuracy: 0.8533 - val_loss: 0.5308 - val_accuracy: 0.7632\n",
      "Epoch 53/60\n",
      "10/10 [==============================] - 0s 3ms/step - loss: 0.3505 - accuracy: 0.8733 - val_loss: 0.5116 - val_accuracy: 0.7763\n",
      "Epoch 54/60\n"
     ]
    },
    {
     "name": "stdout",
     "output_type": "stream",
     "text": [
      "10/10 [==============================] - 0s 3ms/step - loss: 0.3515 - accuracy: 0.8533 - val_loss: 0.4665 - val_accuracy: 0.8421\n",
      "Epoch 55/60\n",
      "10/10 [==============================] - 0s 2ms/step - loss: 0.3743 - accuracy: 0.8433 - val_loss: 0.3766 - val_accuracy: 0.8684\n",
      "Epoch 56/60\n",
      "10/10 [==============================] - 0s 3ms/step - loss: 0.3547 - accuracy: 0.8700 - val_loss: 0.5346 - val_accuracy: 0.7763\n",
      "Epoch 57/60\n",
      "10/10 [==============================] - 0s 3ms/step - loss: 0.3670 - accuracy: 0.8400 - val_loss: 0.4724 - val_accuracy: 0.7632\n",
      "Epoch 58/60\n",
      "10/10 [==============================] - 0s 3ms/step - loss: 0.3415 - accuracy: 0.8367 - val_loss: 0.3843 - val_accuracy: 0.8289\n",
      "Epoch 59/60\n",
      "10/10 [==============================] - 0s 3ms/step - loss: 0.2773 - accuracy: 0.8800 - val_loss: 0.4036 - val_accuracy: 0.8421\n",
      "Epoch 60/60\n",
      "10/10 [==============================] - 0s 3ms/step - loss: 0.2707 - accuracy: 0.9133 - val_loss: 0.4254 - val_accuracy: 0.8421\n"
     ]
    },
    {
     "data": {
      "text/plain": [
       "<tensorflow.python.keras.callbacks.History at 0x1b2d3b60790>"
      ]
     },
     "execution_count": 29,
     "metadata": {},
     "output_type": "execute_result"
    }
   ],
   "source": [
    "model.fit(X_train, y_train, verbose=1, validation_data=(X_val, y_val), epochs=60)"
   ]
  },
  {
   "cell_type": "code",
   "execution_count": 30,
   "metadata": {
    "colab": {
     "base_uri": "https://localhost:8080/"
    },
    "id": "PghHskAJXSzf",
    "outputId": "5808ce33-c956-448e-90a1-49ccbe24db5f"
   },
   "outputs": [
    {
     "data": {
      "text/plain": [
       "array([[24,  0,  1,  0,  0],\n",
       "       [ 0, 10,  4,  1,  0],\n",
       "       [ 0,  0, 15,  0,  0],\n",
       "       [ 0,  0,  0, 11,  0],\n",
       "       [ 0,  8,  2,  0, 18]], dtype=int64)"
      ]
     },
     "execution_count": 30,
     "metadata": {},
     "output_type": "execute_result"
    }
   ],
   "source": [
    "y_pred = model.predict(X_test)\n",
    "y_pred_classes = np.argmax(y_pred, axis=1)\n",
    "confusion_matrix(y_test, y_pred_classes)"
   ]
  },
  {
   "cell_type": "code",
   "execution_count": 31,
   "metadata": {
    "colab": {
     "base_uri": "https://localhost:8080/"
    },
    "id": "E6XEsmp0XYzK",
    "outputId": "bce8ded7-d215-4b16-a1fe-a7fc7cf9fb2a"
   },
   "outputs": [
    {
     "name": "stdout",
     "output_type": "stream",
     "text": [
      "              precision    recall  f1-score   support\n",
      "\n",
      "           0       1.00      0.96      0.98        25\n",
      "           1       0.56      0.67      0.61        15\n",
      "           2       0.68      1.00      0.81        15\n",
      "           3       0.92      1.00      0.96        11\n",
      "           4       1.00      0.64      0.78        28\n",
      "\n",
      "    accuracy                           0.83        94\n",
      "   macro avg       0.83      0.85      0.83        94\n",
      "weighted avg       0.87      0.83      0.83        94\n",
      "\n"
     ]
    }
   ],
   "source": [
    "print(classification_report(y_test, y_pred_classes))"
   ]
  },
  {
   "cell_type": "code",
   "execution_count": 21,
   "metadata": {
    "id": "dnCdoBHlghPY"
   },
   "outputs": [],
   "source": [
    "#Saving the model\n",
    "model_json = model.to_json()\n",
    "with open(\"model.json\", \"w\") as json_file:\n",
    "    json_file.write(model_json)\n",
    "# serialize weights to HDF5\n",
    "model.save_weights(\"model.h5\")"
   ]
  },
  {
   "cell_type": "code",
   "execution_count": null,
   "metadata": {},
   "outputs": [],
   "source": []
  }
 ],
 "metadata": {
  "colab": {
   "provenance": []
  },
  "kernelspec": {
   "display_name": "Python 3",
   "language": "python",
   "name": "python3"
  },
  "language_info": {
   "codemirror_mode": {
    "name": "ipython",
    "version": 3
   },
   "file_extension": ".py",
   "mimetype": "text/x-python",
   "name": "python",
   "nbconvert_exporter": "python",
   "pygments_lexer": "ipython3",
   "version": "3.8.1"
  }
 },
 "nbformat": 4,
 "nbformat_minor": 1
}
