{
 "cells": [
  {
   "cell_type": "markdown",
   "metadata": {
    "id": "fKUiSc5CmQFX"
   },
   "source": [
    "# Summary:  Research based code file for performing image classification using CNN and custom model architecture. "
   ]
  },
  {
   "cell_type": "code",
   "execution_count": null,
   "metadata": {
    "id": "l6keQov5kzYZ"
   },
   "outputs": [],
   "source": [
    "import os\n",
    "import pandas as pd\n",
    "import numpy as np\n",
    "import matplotlib.pyplot as plt \n",
    "import zipfile\n",
    "from google.colab import drive\n",
    "from tensorflow import keras\n",
    "from keras import layers\n",
    "from PIL import ImageFile\n",
    "from tensorflow.keras.models import Sequential, model_from_json\n",
    "from tensorflow.keras.layers import Dense\n",
    "import tensorflow as tf\n",
    "import os"
   ]
  },
  {
   "cell_type": "code",
   "execution_count": null,
   "metadata": {
    "id": "x5DT0og65h-I"
   },
   "outputs": [],
   "source": [
    "ImageFile.LOAD_TRUNCATED_IMAGES = True"
   ]
  },
  {
   "cell_type": "code",
   "execution_count": null,
   "metadata": {
    "id": "eVH6yenemRxG"
   },
   "outputs": [],
   "source": [
    "gpus = tf.config.experimental.list_physical_devices(\"GPU\")\n",
    "for gpu in gpus:\n",
    "  tf.config.experimental.list_physical_devices(gpu)"
   ]
  },
  {
   "cell_type": "code",
   "execution_count": null,
   "metadata": {
    "id": "cilg1aDwmpG_"
   },
   "outputs": [],
   "source": [
    "#Adding zip \n",
    "zip_paths = ['/content/drive/MyDrive/archive (26).zip']\n",
    "train_data = tf.constant(zip_paths)\n",
    "train_data = tf.data.Dataset.from_tensor_slices(train_data)"
   ]
  },
  {
   "cell_type": "code",
   "execution_count": null,
   "metadata": {
    "id": "VG1BdnognlId"
   },
   "outputs": [],
   "source": [
    "# drive.mount('/content/drive/')\n",
    "zip_ref = zipfile.ZipFile(\"/content/drive/MyDrive/archive (26).zip\", 'r')\n",
    "zip_ref.extractall(\"/content/sample_data\")\n",
    "zip_ref.close()"
   ]
  },
  {
   "cell_type": "code",
   "execution_count": null,
   "metadata": {
    "colab": {
     "base_uri": "https://localhost:8080/"
    },
    "id": "-ztFeU1lnl5M",
    "outputId": "dd99ed36-5a09-4f16-8e91-ee0c4b5b1bdd"
   },
   "outputs": [
    {
     "name": "stdout",
     "output_type": "stream",
     "text": [
      "Found 866 images belonging to 5 classes.\n",
      "Found 215 images belonging to 5 classes.\n",
      "Found 470 images belonging to 5 classes.\n"
     ]
    }
   ],
   "source": [
    "data_dir_train = \"/content/sample_data/DATASET/TRAIN\"\n",
    "data_dir_test = \"/content/sample_data/DATASET/TEST\"\n",
    "\n",
    "size = 256\n",
    "img_gen_train = tf.keras.preprocessing.image.ImageDataGenerator(\n",
    "    rescale=1.0 / 255,\n",
    "    validation_split=0.2\n",
    "    # rotation_range=20,\n",
    "    # width_shift_range=0.2,\n",
    "    # height_shift_range=0.2,\n",
    "    # vertical_flip=True,\n",
    ")\n",
    "\n",
    "X_train = img_gen_train.flow_from_directory(data_dir_train,\n",
    "                                        batch_size=32,\n",
    "                                        target_size=(size, size),\n",
    "                                        class_mode='categorical',\n",
    "                                        color_mode='rgb',\n",
    "                                        subset='training'\n",
    "                                        )\n",
    "\n",
    "X_val = img_gen_train.flow_from_directory(data_dir_train,\n",
    "                                        batch_size=32,\n",
    "                                        target_size=(size, size),\n",
    "                                        class_mode='categorical',\n",
    "                                        color_mode='rgb',\n",
    "                                        subset='validation'\n",
    "                                        )\n",
    "\n",
    "img_gen_test = tf.keras.preprocessing.image.ImageDataGenerator(\n",
    "    rescale=1.0 / 255,\n",
    "    # rotation_range=20,\n",
    "    # width_shift_range=0.2,\n",
    "    # height_shift_range=0.2,\n",
    "    # vertical_flip=True,\n",
    ")\n",
    "\n",
    "X_test = img_gen_test.flow_from_directory(data_dir_test,\n",
    "                                        batch_size=32,\n",
    "                                        target_size=(256, 256),\n",
    "                                        class_mode='categorical',\n",
    "                                        color_mode='rgb'\n",
    "                                        )"
   ]
  },
  {
   "cell_type": "code",
   "execution_count": null,
   "metadata": {
    "colab": {
     "base_uri": "https://localhost:8080/",
     "height": 269
    },
    "id": "D1ZWXNgFr0pQ",
    "outputId": "d3114b25-818c-45f9-cf53-947863e9875b"
   },
   "outputs": [
    {
     "data": {
      "image/png": "[encoded data removed]",
      "text/plain": [
       "<Figure size 432x288 with 1 Axes>"
      ]
     },
     "metadata": {
      "needs_background": "light"
     },
     "output_type": "display_data"
    }
   ],
   "source": [
    "#Showing a random image\n",
    "plt.imshow(X_train[1][0][22])\n",
    "plt.show()"
   ]
  },
  {
   "cell_type": "code",
   "execution_count": null,
   "metadata": {
    "colab": {
     "base_uri": "https://localhost:8080/"
    },
    "id": "z_GI3WFKxOnH",
    "outputId": "50ad7179-0d54-4e67-f396-18c9ee29df97"
   },
   "outputs": [
    {
     "name": "stdout",
     "output_type": "stream",
     "text": [
      "{'downdog': 0, 'goddess': 1, 'plank': 2, 'tree': 3, 'warrior2': 4}\n",
      "{'downdog': 0, 'goddess': 1, 'plank': 2, 'tree': 3, 'warrior2': 4}\n"
     ]
    }
   ],
   "source": [
    "print(X_train.class_indices)\n",
    "print(X_test.class_indices)"
   ]
  },
  {
   "cell_type": "code",
   "execution_count": null,
   "metadata": {
    "id": "XKO-dVBVoQ67"
   },
   "outputs": [],
   "source": [
    "model = keras.Sequential(\n",
    "    [\n",
    "        layers.Conv2D(filters=16,kernel_size=(5,5),strides=1, activation=\"relu\",name = \"ConvolutionLayer1\",input_shape=(256, 256, 3)),\n",
    "        layers.MaxPool2D(),\n",
    "\n",
    "        layers.Conv2D(filters=32,kernel_size=(5,5),strides=1, activation=\"relu\",name = \"ConvolutionLayer2\"),\n",
    "        layers.MaxPool2D(),\n",
    "     \n",
    "        layers.Conv2D(filters=16,kernel_size=(5,5),strides=1, activation=\"relu\",name = \"ConvolutionLayer3\"),\n",
    "        layers.MaxPool2D(),\n",
    "     \n",
    "        layers.Conv2D(filters=32,kernel_size=(5,5),strides=1, activation=\"relu\",name = \"ConvolutionLayer4\"),\n",
    "        layers.MaxPool2D(),\n",
    "     \n",
    "        layers.Conv2D(filters=16,kernel_size=(5,5),strides=1, activation=\"relu\",name = \"ConvolutionLayer5\"),\n",
    "        layers.MaxPool2D(),\n",
    "     \n",
    "        layers.GlobalAveragePooling2D(),\n",
    "     \n",
    "        layers.Dense(112, activation=\"relu\", name=\"layer1\"),\n",
    "        layers.Dropout(.2),\n",
    "        layers.Dense(256, activation=\"relu\", name=\"layer2\"),\n",
    "        layers.Dropout(.2),\n",
    "        layers.Dense(112, activation=\"relu\", name=\"layer3\"),\n",
    "\n",
    "        # layers.Dense(32, activation=\"relu\", name=\"layer2\"),      \n",
    "        layers.Dense(5 , name=\"output\", activation=\"softmax\"),\n",
    "    ]\n",
    ")\n",
    "\n",
    "model.compile(optimizer='adam', loss='categorical_crossentropy', metrics=['accuracy'])\n"
   ]
  },
  {
   "cell_type": "code",
   "execution_count": null,
   "metadata": {
    "colab": {
     "base_uri": "https://localhost:8080/"
    },
    "id": "Zwx8Ln4YrJhX",
    "outputId": "7b5474ff-6929-44ff-ce3a-b166e7618e0c"
   },
   "outputs": [
    {
     "name": "stdout",
     "output_type": "stream",
     "text": [
      "Model: \"sequential\"\n",
      "_________________________________________________________________\n",
      " Layer (type)                Output Shape              Param #   \n",
      "=================================================================\n",
      " ConvolutionLayer1 (Conv2D)  (None, 252, 252, 16)      1216      \n",
      "                                                                 \n",
      " max_pooling2d (MaxPooling2D  (None, 126, 126, 16)     0         \n",
      " )                                                               \n",
      "                                                                 \n",
      " ConvolutionLayer2 (Conv2D)  (None, 122, 122, 32)      12832     \n",
      "                                                                 \n",
      " max_pooling2d_1 (MaxPooling  (None, 61, 61, 32)       0         \n",
      " 2D)                                                             \n",
      "                                                                 \n",
      " ConvolutionLayer3 (Conv2D)  (None, 57, 57, 16)        12816     \n",
      "                                                                 \n",
      " max_pooling2d_2 (MaxPooling  (None, 28, 28, 16)       0         \n",
      " 2D)                                                             \n",
      "                                                                 \n",
      " ConvolutionLayer4 (Conv2D)  (None, 24, 24, 32)        12832     \n",
      "                                                                 \n",
      " max_pooling2d_3 (MaxPooling  (None, 12, 12, 32)       0         \n",
      " 2D)                                                             \n",
      "                                                                 \n",
      " ConvolutionLayer5 (Conv2D)  (None, 8, 8, 16)          12816     \n",
      "                                                                 \n",
      " max_pooling2d_4 (MaxPooling  (None, 4, 4, 16)         0         \n",
      " 2D)                                                             \n",
      "                                                                 \n",
      " global_average_pooling2d (G  (None, 16)               0         \n",
      " lobalAveragePooling2D)                                          \n",
      "                                                                 \n",
      " layer1 (Dense)              (None, 112)               1904      \n",
      "                                                                 \n",
      " dropout (Dropout)           (None, 112)               0         \n",
      "                                                                 \n",
      " layer2 (Dense)              (None, 256)               28928     \n",
      "                                                                 \n",
      " dropout_1 (Dropout)         (None, 256)               0         \n",
      "                                                                 \n",
      " layer3 (Dense)              (None, 112)               28784     \n",
      "                                                                 \n",
      " output (Dense)              (None, 5)                 565       \n",
      "                                                                 \n",
      "=================================================================\n",
      "Total params: 112,693\n",
      "Trainable params: 112,693\n",
      "Non-trainable params: 0\n",
      "_________________________________________________________________\n"
     ]
    }
   ],
   "source": [
    "model.summary()"
   ]
  },
  {
   "cell_type": "markdown",
   "metadata": {
    "id": "wjlL2aQ1BciS"
   },
   "source": [
    "Train Deep Learning Model"
   ]
  },
  {
   "cell_type": "code",
   "execution_count": null,
   "metadata": {
    "colab": {
     "base_uri": "https://localhost:8080/"
    },
    "id": "ECE_vpKK0LY3",
    "outputId": "430d7ab7-e2b5-4b7d-92ba-0107e495caa3"
   },
   "outputs": [
    {
     "name": "stdout",
     "output_type": "stream",
     "text": [
      "Epoch 1/40\n",
      "14/28 [==============>...............] - ETA: 6s - loss: 1.6102 - accuracy: 0.2201"
     ]
    },
    {
     "name": "stderr",
     "output_type": "stream",
     "text": [
      "/usr/local/lib/python3.7/dist-packages/PIL/Image.py:960: UserWarning: Palette images with Transparency expressed in bytes should be converted to RGBA images\n",
      "  \"Palette images with Transparency expressed in bytes should be \"\n"
     ]
    },
    {
     "name": "stdout",
     "output_type": "stream",
     "text": [
      "28/28 [==============================] - 26s 607ms/step - loss: 1.6027 - accuracy: 0.2344 - val_loss: 1.5942 - val_accuracy: 0.2326\n",
      "Epoch 2/40\n",
      "28/28 [==============================] - 16s 565ms/step - loss: 1.5999 - accuracy: 0.2309 - val_loss: 1.5998 - val_accuracy: 0.2465\n",
      "Epoch 3/40\n",
      "28/28 [==============================] - 17s 618ms/step - loss: 1.5979 - accuracy: 0.2460 - val_loss: 1.5936 - val_accuracy: 0.2465\n",
      "Epoch 4/40\n",
      "28/28 [==============================] - 17s 597ms/step - loss: 1.5942 - accuracy: 0.2460 - val_loss: 1.5927 - val_accuracy: 0.2465\n",
      "Epoch 5/40\n",
      "28/28 [==============================] - 16s 566ms/step - loss: 1.5951 - accuracy: 0.2471 - val_loss: 1.5898 - val_accuracy: 0.2465\n",
      "Epoch 6/40\n",
      "28/28 [==============================] - 17s 610ms/step - loss: 1.5775 - accuracy: 0.2390 - val_loss: 1.5905 - val_accuracy: 0.2326\n",
      "Epoch 7/40\n",
      "28/28 [==============================] - 16s 569ms/step - loss: 1.5817 - accuracy: 0.2367 - val_loss: 1.5604 - val_accuracy: 0.2465\n",
      "Epoch 8/40\n",
      "28/28 [==============================] - 16s 566ms/step - loss: 1.5430 - accuracy: 0.3048 - val_loss: 1.5335 - val_accuracy: 0.3442\n",
      "Epoch 9/40\n",
      "28/28 [==============================] - 17s 609ms/step - loss: 1.5178 - accuracy: 0.3337 - val_loss: 1.5561 - val_accuracy: 0.2884\n",
      "Epoch 10/40\n",
      "28/28 [==============================] - 16s 558ms/step - loss: 1.5001 - accuracy: 0.3383 - val_loss: 1.4655 - val_accuracy: 0.3767\n",
      "Epoch 11/40\n",
      "28/28 [==============================] - 16s 558ms/step - loss: 1.4853 - accuracy: 0.3303 - val_loss: 1.5973 - val_accuracy: 0.2326\n",
      "Epoch 12/40\n",
      "28/28 [==============================] - 16s 570ms/step - loss: 1.5827 - accuracy: 0.2598 - val_loss: 1.4873 - val_accuracy: 0.3395\n",
      "Epoch 13/40\n",
      "28/28 [==============================] - 18s 669ms/step - loss: 1.4863 - accuracy: 0.3314 - val_loss: 1.3985 - val_accuracy: 0.3581\n",
      "Epoch 14/40\n",
      "28/28 [==============================] - 16s 560ms/step - loss: 1.4270 - accuracy: 0.3718 - val_loss: 1.4003 - val_accuracy: 0.4558\n",
      "Epoch 15/40\n",
      "28/28 [==============================] - 16s 564ms/step - loss: 1.3621 - accuracy: 0.4157 - val_loss: 1.2680 - val_accuracy: 0.4837\n",
      "Epoch 16/40\n",
      "28/28 [==============================] - 17s 621ms/step - loss: 1.2473 - accuracy: 0.4954 - val_loss: 1.1403 - val_accuracy: 0.5116\n",
      "Epoch 17/40\n",
      "28/28 [==============================] - 16s 549ms/step - loss: 1.2303 - accuracy: 0.4919 - val_loss: 1.1605 - val_accuracy: 0.5256\n",
      "Epoch 18/40\n",
      "28/28 [==============================] - 16s 568ms/step - loss: 1.0642 - accuracy: 0.5589 - val_loss: 1.0544 - val_accuracy: 0.6000\n",
      "Epoch 19/40\n",
      "28/28 [==============================] - 17s 620ms/step - loss: 1.0169 - accuracy: 0.5808 - val_loss: 1.1101 - val_accuracy: 0.5256\n",
      "Epoch 20/40\n",
      "28/28 [==============================] - 16s 574ms/step - loss: 1.0430 - accuracy: 0.5797 - val_loss: 1.0565 - val_accuracy: 0.5814\n",
      "Epoch 21/40\n",
      "28/28 [==============================] - 16s 568ms/step - loss: 0.9823 - accuracy: 0.6132 - val_loss: 1.0234 - val_accuracy: 0.6233\n",
      "Epoch 22/40\n",
      "28/28 [==============================] - 17s 616ms/step - loss: 1.0369 - accuracy: 0.6051 - val_loss: 1.0074 - val_accuracy: 0.5953\n",
      "Epoch 23/40\n",
      "28/28 [==============================] - 16s 558ms/step - loss: 0.9003 - accuracy: 0.6282 - val_loss: 0.9133 - val_accuracy: 0.6558\n",
      "Epoch 24/40\n",
      "28/28 [==============================] - 16s 567ms/step - loss: 0.8158 - accuracy: 0.6582 - val_loss: 0.8521 - val_accuracy: 0.6791\n",
      "Epoch 25/40\n",
      "28/28 [==============================] - 16s 560ms/step - loss: 0.7399 - accuracy: 0.7136 - val_loss: 0.7809 - val_accuracy: 0.7256\n",
      "Epoch 26/40\n",
      "28/28 [==============================] - 19s 664ms/step - loss: 0.6281 - accuracy: 0.7702 - val_loss: 0.8171 - val_accuracy: 0.7070\n",
      "Epoch 27/40\n",
      "28/28 [==============================] - 16s 571ms/step - loss: 0.5782 - accuracy: 0.7864 - val_loss: 0.8758 - val_accuracy: 0.6326\n",
      "Epoch 28/40\n",
      "28/28 [==============================] - 16s 577ms/step - loss: 0.5705 - accuracy: 0.7898 - val_loss: 0.8336 - val_accuracy: 0.7442\n",
      "Epoch 29/40\n",
      "28/28 [==============================] - 17s 618ms/step - loss: 0.4835 - accuracy: 0.8279 - val_loss: 0.8671 - val_accuracy: 0.7674\n",
      "Epoch 30/40\n",
      "28/28 [==============================] - 16s 572ms/step - loss: 0.5084 - accuracy: 0.8025 - val_loss: 0.9698 - val_accuracy: 0.7163\n",
      "Epoch 31/40\n",
      "28/28 [==============================] - 16s 561ms/step - loss: 0.5089 - accuracy: 0.8291 - val_loss: 0.8877 - val_accuracy: 0.7721\n",
      "Epoch 32/40\n",
      "28/28 [==============================] - 17s 593ms/step - loss: 0.4732 - accuracy: 0.8256 - val_loss: 0.8280 - val_accuracy: 0.7488\n",
      "Epoch 33/40\n",
      "28/28 [==============================] - 16s 571ms/step - loss: 0.3810 - accuracy: 0.8591 - val_loss: 0.8337 - val_accuracy: 0.7535\n",
      "Epoch 34/40\n",
      "28/28 [==============================] - 16s 564ms/step - loss: 0.2958 - accuracy: 0.8972 - val_loss: 0.8366 - val_accuracy: 0.7860\n",
      "Epoch 35/40\n",
      "28/28 [==============================] - 16s 562ms/step - loss: 0.2313 - accuracy: 0.9307 - val_loss: 0.9564 - val_accuracy: 0.7814\n",
      "Epoch 36/40\n",
      "28/28 [==============================] - 17s 618ms/step - loss: 0.2867 - accuracy: 0.8938 - val_loss: 0.8683 - val_accuracy: 0.7535\n",
      "Epoch 37/40\n",
      "28/28 [==============================] - 16s 567ms/step - loss: 0.2818 - accuracy: 0.9030 - val_loss: 0.9506 - val_accuracy: 0.7535\n",
      "Epoch 38/40\n",
      "28/28 [==============================] - 16s 570ms/step - loss: 0.1845 - accuracy: 0.9423 - val_loss: 1.1004 - val_accuracy: 0.7488\n",
      "Epoch 39/40\n",
      "28/28 [==============================] - 19s 677ms/step - loss: 0.1861 - accuracy: 0.9411 - val_loss: 0.8691 - val_accuracy: 0.8000\n",
      "Epoch 40/40\n",
      "28/28 [==============================] - 16s 560ms/step - loss: 0.1685 - accuracy: 0.9400 - val_loss: 1.1358 - val_accuracy: 0.7814\n"
     ]
    }
   ],
   "source": [
    "history = model.fit(X_train, validation_data=X_val, epochs=40, batch_size=32 )"
   ]
  },
  {
   "cell_type": "code",
   "execution_count": null,
   "metadata": {
    "colab": {
     "base_uri": "https://localhost:8080/"
    },
    "id": "BM4XoUSD1Lgw",
    "outputId": "51d9876d-ca31-4a7b-b63f-c55a636ee67d"
   },
   "outputs": [
    {
     "name": "stdout",
     "output_type": "stream",
     "text": [
      "12/15 [=======================>......] - ETA: 2s - loss: 0.7264 - accuracy: 0.8594"
     ]
    },
    {
     "name": "stderr",
     "output_type": "stream",
     "text": [
      "/usr/local/lib/python3.7/dist-packages/PIL/TiffImagePlugin.py:770: UserWarning: Possibly corrupt EXIF data.  Expecting to read 11 bytes but only got 10. Skipping tag 42037\n",
      "  \" Skipping tag %s\" % (size, len(data), tag)\n"
     ]
    },
    {
     "name": "stdout",
     "output_type": "stream",
     "text": [
      "15/15 [==============================] - 13s 895ms/step - loss: 0.7955 - accuracy: 0.8489\n"
     ]
    },
    {
     "data": {
      "text/plain": [
       "[0.7954535484313965, 0.848936140537262]"
      ]
     },
     "execution_count": 46,
     "metadata": {},
     "output_type": "execute_result"
    }
   ],
   "source": [
    "model.evaluate(X_test)"
   ]
  },
  {
   "cell_type": "code",
   "execution_count": null,
   "metadata": {
    "colab": {
     "base_uri": "https://localhost:8080/"
    },
    "id": "99UTgULxFMNB",
    "outputId": "2cd5e35e-412e-4976-b696-c8ea09d786b1"
   },
   "outputs": [
    {
     "name": "stdout",
     "output_type": "stream",
     "text": [
      "Saved model to disk\n"
     ]
    }
   ],
   "source": [
    "# serialize model to JSON\n",
    "model_json = model.to_json()\n",
    "with open(\"custom_cnnmodel.json\", \"w\") as json_file:\n",
    "    json_file.write(model_json)\n",
    "# serialize weights to HDF5\n",
    "model.save_weights(\"custom_cnnmodel.h5\")\n",
    "print(\"Saved model to disk\")"
   ]
  }
 ],
 "metadata": {
  "accelerator": "GPU",
  "colab": {
   "provenance": []
  },
  "gpuClass": "standard",
  "kernelspec": {
   "display_name": "Python 3 (ipykernel)",
   "language": "python",
   "name": "python3"
  },
  "language_info": {
   "codemirror_mode": {
    "name": "ipython",
    "version": 3
   },
   "file_extension": ".py",
   "mimetype": "text/x-python",
   "name": "python",
   "nbconvert_exporter": "python",
   "pygments_lexer": "ipython3",
   "version": "3.9.12"
  }
 },
 "nbformat": 4,
 "nbformat_minor": 1
}
